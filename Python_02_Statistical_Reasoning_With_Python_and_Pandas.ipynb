{
  "nbformat": 4,
  "nbformat_minor": 0,
  "metadata": {
    "colab": {
      "provenance": [],
      "collapsed_sections": [
        "MPD_gBJ_hV3O",
        "UccqoYAXg7vl",
        "lQcZkuVOA-G6",
        "ACaoZ565lAw9",
        "UG-Rit-vn-v4",
        "heCDlZjSpW7s"
      ],
      "authorship_tag": "ABX9TyMufJ71JZfp1YMb7y2NN+CT",
      "include_colab_link": true
    },
    "kernelspec": {
      "name": "python3",
      "display_name": "Python 3"
    },
    "language_info": {
      "name": "python"
    }
  },
  "cells": [
    {
      "cell_type": "markdown",
      "metadata": {
        "id": "view-in-github",
        "colab_type": "text"
      },
      "source": [
        "<a href=\"https://colab.research.google.com/github/brendanpshea/intro_to_python/blob/main/Python_02_Statistical_Reasoning_With_Python_and_Pandas.ipynb\" target=\"_parent\"><img src=\"https://colab.research.google.com/assets/colab-badge.svg\" alt=\"Open In Colab\"/></a>"
      ]
    },
    {
      "cell_type": "markdown",
      "source": [
        "## Statistical Reasoning With Python and Pandas\n",
        "Brendan Shea, PhD (Brendan.Shea@rctc.edu) \n",
        "\n",
        "**If you've reached this page through a Github link, please click on \"Open in Colab\" if you haven't already. Then, click on \"connect\" in the upper left. **\n",
        "\n",
        "**Statistics** is the the formal study of the relationships between **populations** and **samples**. Statistical reasoning and argumentation is the basis for almost all modern science and plays an ever-increasing role in virtually all areas of our life.\n",
        "\n",
        "In this lesson, we'll introduce the basic ideas of statistical reasoning using the Python programming language and the Python **library (or package)** called `pandas.' A library is a collection of **functions** (or \"programs\") that someone else has written.\n",
        "\n",
        "The **pandas** package is designed to analyze tabular data, of the sort you might see in an excel spreadsheet.  However, Pandas is far more powerful than a spreadsheet, especially when it comes to doing like performing statistical analyses and making \"visualizations\" of our data. Pandas is widely used in business, scientific research, medicine, statistics, data science, and many other areas. \n",
        "\n",
        "In these introductory lesson on Pandas, we'll explore nutritional information about McDonald's food items.\n",
        "\n",
        "Our main goals for this lesson are as follows:\n",
        "\n",
        "1. Explain what a Pandas **data frame** is and how it represents data.\n",
        "\n",
        "2. Use basic statistical functions to answer questions about our data.\n",
        "\n",
        "3. Create and interpret basic \"visualizations\" of our data."
      ],
      "metadata": {
        "id": "hbJ50SLL0o7I"
      }
    },
    {
      "cell_type": "markdown",
      "source": [
        "## Importing Pandas\n",
        "To begin with, we need to \"tell\" the Python interpreter we'd like to use the `pandas` package. We'll also give pandas an abbreviation (`pd`) to save ourselves having to type `pandas` over and over again.\n",
        "\n",
        "**Important**: You'll need to re-run this cell (along with the cells that load the McDonald's data) each time you \"reconnect\" to the notebook. Otherwise, the later code cells won't \"work\" (because they won't \"know\" about pandas or the McDonald's data)."
      ],
      "metadata": {
        "id": "Jy7tC1dr2goK"
      }
    },
    {
      "cell_type": "code",
      "execution_count": null,
      "metadata": {
        "id": "94j6LPji0mfM"
      },
      "outputs": [],
      "source": [
        "import pandas as pd"
      ]
    },
    {
      "cell_type": "markdown",
      "source": [
        "## Loading the McDonalds Data\n",
        "Now, we can use the pandas library to load the McDonald's data, which is stored as a **comma seperated value** (CSV) file on my Github site.  We're going to load the data into a pandas data frame we'll call `mcd_df`.\n"
      ],
      "metadata": {
        "id": "DNa6HdG74Ydc"
      }
    },
    {
      "cell_type": "code",
      "source": [
        "# First, a variable called url to store the web address of the csv file\n",
        "url = \"https://raw.githubusercontent.com/brendanpshea/datasets/main/mcdonalds_menu.csv\"\n",
        "\n",
        "# Now, we call a function read_csv(), which \"reads\" the data from the CSV\n",
        "mcd_df = pd.read_csv(url)\n"
      ],
      "metadata": {
        "id": "SzNDc2ks3jIF"
      },
      "execution_count": null,
      "outputs": []
    },
    {
      "cell_type": "markdown",
      "source": [
        "## Exploring the McDonald's \"Data Frame\"\n",
        "The basic data structure of Python is called a **data frame**. These are, essentially, \"tables\" of data, with the rows representing individual items or entities and the columns represesting the attributes of these entites. In the case of the McDonald's data frame:\n",
        "\n",
        "* Each row (or **record**) represents an individual food item.\n",
        "* Each column represents a property (or **attribute**) of that food item.\n",
        "\n",
        "We can use the `df.head()` function to display the first five rows of the data frame.\n"
      ],
      "metadata": {
        "id": "I_dAyc_27hLT"
      }
    },
    {
      "cell_type": "code",
      "source": [
        "mcd_df.head()"
      ],
      "metadata": {
        "colab": {
          "base_uri": "https://localhost:8080/",
          "height": 436
        },
        "id": "rlzTHh1m5mv3",
        "outputId": "48fe436b-b01e-4cee-8521-87addce8dbc6"
      },
      "execution_count": null,
      "outputs": [
        {
          "output_type": "execute_result",
          "data": {
            "text/plain": [
              "    Category                              Item    Serving Size  Calories  \\\n",
              "0  Breakfast                      Egg McMuffin  4.8 oz (136 g)       300   \n",
              "1  Breakfast                 Egg White Delight  4.8 oz (135 g)       250   \n",
              "2  Breakfast                  Sausage McMuffin  3.9 oz (111 g)       370   \n",
              "3  Breakfast         Sausage McMuffin with Egg  5.7 oz (161 g)       450   \n",
              "4  Breakfast  Sausage McMuffin with Egg Whites  5.7 oz (161 g)       400   \n",
              "\n",
              "   Calories from Fat  Total Fat  Total Fat (% Daily Value)  Saturated Fat  \\\n",
              "0                120       13.0                         20            5.0   \n",
              "1                 70        8.0                         12            3.0   \n",
              "2                200       23.0                         35            8.0   \n",
              "3                250       28.0                         43           10.0   \n",
              "4                210       23.0                         35            8.0   \n",
              "\n",
              "   Saturated Fat (% Daily Value)  Trans Fat  ...  Carbohydrates  \\\n",
              "0                             25        0.0  ...             31   \n",
              "1                             15        0.0  ...             30   \n",
              "2                             42        0.0  ...             29   \n",
              "3                             52        0.0  ...             30   \n",
              "4                             42        0.0  ...             30   \n",
              "\n",
              "   Carbohydrates (% Daily Value)  Dietary Fiber  \\\n",
              "0                             10              4   \n",
              "1                             10              4   \n",
              "2                             10              4   \n",
              "3                             10              4   \n",
              "4                             10              4   \n",
              "\n",
              "   Dietary Fiber (% Daily Value)  Sugars  Protein  Vitamin A (% Daily Value)  \\\n",
              "0                             17       3       17                         10   \n",
              "1                             17       3       18                          6   \n",
              "2                             17       2       14                          8   \n",
              "3                             17       2       21                         15   \n",
              "4                             17       2       21                          6   \n",
              "\n",
              "   Vitamin C (% Daily Value)  Calcium (% Daily Value)  Iron (% Daily Value)  \n",
              "0                          0                       25                    15  \n",
              "1                          0                       25                     8  \n",
              "2                          0                       25                    10  \n",
              "3                          0                       30                    15  \n",
              "4                          0                       25                    10  \n",
              "\n",
              "[5 rows x 24 columns]"
            ],
            "text/html": [
              "\n",
              "  <div id=\"df-31c6ed06-66fe-41bb-a829-9208e2f6cbf5\">\n",
              "    <div class=\"colab-df-container\">\n",
              "      <div>\n",
              "<style scoped>\n",
              "    .dataframe tbody tr th:only-of-type {\n",
              "        vertical-align: middle;\n",
              "    }\n",
              "\n",
              "    .dataframe tbody tr th {\n",
              "        vertical-align: top;\n",
              "    }\n",
              "\n",
              "    .dataframe thead th {\n",
              "        text-align: right;\n",
              "    }\n",
              "</style>\n",
              "<table border=\"1\" class=\"dataframe\">\n",
              "  <thead>\n",
              "    <tr style=\"text-align: right;\">\n",
              "      <th></th>\n",
              "      <th>Category</th>\n",
              "      <th>Item</th>\n",
              "      <th>Serving Size</th>\n",
              "      <th>Calories</th>\n",
              "      <th>Calories from Fat</th>\n",
              "      <th>Total Fat</th>\n",
              "      <th>Total Fat (% Daily Value)</th>\n",
              "      <th>Saturated Fat</th>\n",
              "      <th>Saturated Fat (% Daily Value)</th>\n",
              "      <th>Trans Fat</th>\n",
              "      <th>...</th>\n",
              "      <th>Carbohydrates</th>\n",
              "      <th>Carbohydrates (% Daily Value)</th>\n",
              "      <th>Dietary Fiber</th>\n",
              "      <th>Dietary Fiber (% Daily Value)</th>\n",
              "      <th>Sugars</th>\n",
              "      <th>Protein</th>\n",
              "      <th>Vitamin A (% Daily Value)</th>\n",
              "      <th>Vitamin C (% Daily Value)</th>\n",
              "      <th>Calcium (% Daily Value)</th>\n",
              "      <th>Iron (% Daily Value)</th>\n",
              "    </tr>\n",
              "  </thead>\n",
              "  <tbody>\n",
              "    <tr>\n",
              "      <th>0</th>\n",
              "      <td>Breakfast</td>\n",
              "      <td>Egg McMuffin</td>\n",
              "      <td>4.8 oz (136 g)</td>\n",
              "      <td>300</td>\n",
              "      <td>120</td>\n",
              "      <td>13.0</td>\n",
              "      <td>20</td>\n",
              "      <td>5.0</td>\n",
              "      <td>25</td>\n",
              "      <td>0.0</td>\n",
              "      <td>...</td>\n",
              "      <td>31</td>\n",
              "      <td>10</td>\n",
              "      <td>4</td>\n",
              "      <td>17</td>\n",
              "      <td>3</td>\n",
              "      <td>17</td>\n",
              "      <td>10</td>\n",
              "      <td>0</td>\n",
              "      <td>25</td>\n",
              "      <td>15</td>\n",
              "    </tr>\n",
              "    <tr>\n",
              "      <th>1</th>\n",
              "      <td>Breakfast</td>\n",
              "      <td>Egg White Delight</td>\n",
              "      <td>4.8 oz (135 g)</td>\n",
              "      <td>250</td>\n",
              "      <td>70</td>\n",
              "      <td>8.0</td>\n",
              "      <td>12</td>\n",
              "      <td>3.0</td>\n",
              "      <td>15</td>\n",
              "      <td>0.0</td>\n",
              "      <td>...</td>\n",
              "      <td>30</td>\n",
              "      <td>10</td>\n",
              "      <td>4</td>\n",
              "      <td>17</td>\n",
              "      <td>3</td>\n",
              "      <td>18</td>\n",
              "      <td>6</td>\n",
              "      <td>0</td>\n",
              "      <td>25</td>\n",
              "      <td>8</td>\n",
              "    </tr>\n",
              "    <tr>\n",
              "      <th>2</th>\n",
              "      <td>Breakfast</td>\n",
              "      <td>Sausage McMuffin</td>\n",
              "      <td>3.9 oz (111 g)</td>\n",
              "      <td>370</td>\n",
              "      <td>200</td>\n",
              "      <td>23.0</td>\n",
              "      <td>35</td>\n",
              "      <td>8.0</td>\n",
              "      <td>42</td>\n",
              "      <td>0.0</td>\n",
              "      <td>...</td>\n",
              "      <td>29</td>\n",
              "      <td>10</td>\n",
              "      <td>4</td>\n",
              "      <td>17</td>\n",
              "      <td>2</td>\n",
              "      <td>14</td>\n",
              "      <td>8</td>\n",
              "      <td>0</td>\n",
              "      <td>25</td>\n",
              "      <td>10</td>\n",
              "    </tr>\n",
              "    <tr>\n",
              "      <th>3</th>\n",
              "      <td>Breakfast</td>\n",
              "      <td>Sausage McMuffin with Egg</td>\n",
              "      <td>5.7 oz (161 g)</td>\n",
              "      <td>450</td>\n",
              "      <td>250</td>\n",
              "      <td>28.0</td>\n",
              "      <td>43</td>\n",
              "      <td>10.0</td>\n",
              "      <td>52</td>\n",
              "      <td>0.0</td>\n",
              "      <td>...</td>\n",
              "      <td>30</td>\n",
              "      <td>10</td>\n",
              "      <td>4</td>\n",
              "      <td>17</td>\n",
              "      <td>2</td>\n",
              "      <td>21</td>\n",
              "      <td>15</td>\n",
              "      <td>0</td>\n",
              "      <td>30</td>\n",
              "      <td>15</td>\n",
              "    </tr>\n",
              "    <tr>\n",
              "      <th>4</th>\n",
              "      <td>Breakfast</td>\n",
              "      <td>Sausage McMuffin with Egg Whites</td>\n",
              "      <td>5.7 oz (161 g)</td>\n",
              "      <td>400</td>\n",
              "      <td>210</td>\n",
              "      <td>23.0</td>\n",
              "      <td>35</td>\n",
              "      <td>8.0</td>\n",
              "      <td>42</td>\n",
              "      <td>0.0</td>\n",
              "      <td>...</td>\n",
              "      <td>30</td>\n",
              "      <td>10</td>\n",
              "      <td>4</td>\n",
              "      <td>17</td>\n",
              "      <td>2</td>\n",
              "      <td>21</td>\n",
              "      <td>6</td>\n",
              "      <td>0</td>\n",
              "      <td>25</td>\n",
              "      <td>10</td>\n",
              "    </tr>\n",
              "  </tbody>\n",
              "</table>\n",
              "<p>5 rows × 24 columns</p>\n",
              "</div>\n",
              "      <button class=\"colab-df-convert\" onclick=\"convertToInteractive('df-31c6ed06-66fe-41bb-a829-9208e2f6cbf5')\"\n",
              "              title=\"Convert this dataframe to an interactive table.\"\n",
              "              style=\"display:none;\">\n",
              "        \n",
              "  <svg xmlns=\"http://www.w3.org/2000/svg\" height=\"24px\"viewBox=\"0 0 24 24\"\n",
              "       width=\"24px\">\n",
              "    <path d=\"M0 0h24v24H0V0z\" fill=\"none\"/>\n",
              "    <path d=\"M18.56 5.44l.94 2.06.94-2.06 2.06-.94-2.06-.94-.94-2.06-.94 2.06-2.06.94zm-11 1L8.5 8.5l.94-2.06 2.06-.94-2.06-.94L8.5 2.5l-.94 2.06-2.06.94zm10 10l.94 2.06.94-2.06 2.06-.94-2.06-.94-.94-2.06-.94 2.06-2.06.94z\"/><path d=\"M17.41 7.96l-1.37-1.37c-.4-.4-.92-.59-1.43-.59-.52 0-1.04.2-1.43.59L10.3 9.45l-7.72 7.72c-.78.78-.78 2.05 0 2.83L4 21.41c.39.39.9.59 1.41.59.51 0 1.02-.2 1.41-.59l7.78-7.78 2.81-2.81c.8-.78.8-2.07 0-2.86zM5.41 20L4 18.59l7.72-7.72 1.47 1.35L5.41 20z\"/>\n",
              "  </svg>\n",
              "      </button>\n",
              "      \n",
              "  <style>\n",
              "    .colab-df-container {\n",
              "      display:flex;\n",
              "      flex-wrap:wrap;\n",
              "      gap: 12px;\n",
              "    }\n",
              "\n",
              "    .colab-df-convert {\n",
              "      background-color: #E8F0FE;\n",
              "      border: none;\n",
              "      border-radius: 50%;\n",
              "      cursor: pointer;\n",
              "      display: none;\n",
              "      fill: #1967D2;\n",
              "      height: 32px;\n",
              "      padding: 0 0 0 0;\n",
              "      width: 32px;\n",
              "    }\n",
              "\n",
              "    .colab-df-convert:hover {\n",
              "      background-color: #E2EBFA;\n",
              "      box-shadow: 0px 1px 2px rgba(60, 64, 67, 0.3), 0px 1px 3px 1px rgba(60, 64, 67, 0.15);\n",
              "      fill: #174EA6;\n",
              "    }\n",
              "\n",
              "    [theme=dark] .colab-df-convert {\n",
              "      background-color: #3B4455;\n",
              "      fill: #D2E3FC;\n",
              "    }\n",
              "\n",
              "    [theme=dark] .colab-df-convert:hover {\n",
              "      background-color: #434B5C;\n",
              "      box-shadow: 0px 1px 3px 1px rgba(0, 0, 0, 0.15);\n",
              "      filter: drop-shadow(0px 1px 2px rgba(0, 0, 0, 0.3));\n",
              "      fill: #FFFFFF;\n",
              "    }\n",
              "  </style>\n",
              "\n",
              "      <script>\n",
              "        const buttonEl =\n",
              "          document.querySelector('#df-31c6ed06-66fe-41bb-a829-9208e2f6cbf5 button.colab-df-convert');\n",
              "        buttonEl.style.display =\n",
              "          google.colab.kernel.accessAllowed ? 'block' : 'none';\n",
              "\n",
              "        async function convertToInteractive(key) {\n",
              "          const element = document.querySelector('#df-31c6ed06-66fe-41bb-a829-9208e2f6cbf5');\n",
              "          const dataTable =\n",
              "            await google.colab.kernel.invokeFunction('convertToInteractive',\n",
              "                                                     [key], {});\n",
              "          if (!dataTable) return;\n",
              "\n",
              "          const docLinkHtml = 'Like what you see? Visit the ' +\n",
              "            '<a target=\"_blank\" href=https://colab.research.google.com/notebooks/data_table.ipynb>data table notebook</a>'\n",
              "            + ' to learn more about interactive tables.';\n",
              "          element.innerHTML = '';\n",
              "          dataTable['output_type'] = 'display_data';\n",
              "          await google.colab.output.renderOutput(dataTable, element);\n",
              "          const docLink = document.createElement('div');\n",
              "          docLink.innerHTML = docLinkHtml;\n",
              "          element.appendChild(docLink);\n",
              "        }\n",
              "      </script>\n",
              "    </div>\n",
              "  </div>\n",
              "  "
            ]
          },
          "metadata": {},
          "execution_count": 3
        }
      ]
    },
    {
      "cell_type": "markdown",
      "source": [
        "## Exercise 1: Using df.head()\n",
        "The pandas function `data_frame_name.head(num_rows)` allows us to display the \"head\" (or beginning) of the data frame, and (optionally) choose the number of rows to display.\n",
        "\n",
        "```\n",
        "mcd_df.head(3)\n",
        "```\n",
        "\n",
        "would diplay the first three rows of the data frame. If no number is provided, it will show the first FIVE rows of data.\n",
        "\n",
        "It's your turn! Use .head() to display the first six rows of the dataframe."
      ],
      "metadata": {
        "id": "MPD_gBJ_hV3O"
      }
    },
    {
      "cell_type": "code",
      "source": [
        "# Your code below here\n"
      ],
      "metadata": {
        "id": "PR7KANQBiD3f"
      },
      "execution_count": null,
      "outputs": []
    },
    {
      "cell_type": "markdown",
      "source": [
        "## Saving and Submitting Your Work\n",
        "\n",
        "If you are running on Colab and you want to save your work (with the new cell you've just created), now is an excellent time to press the \"Copy to Drive\" button (near the upper left), which saves a copy of this notebook in your Google Drive.\n",
        "\n",
        "If you want to change the file's name, you can click on the name in the upper left.\n",
        "If you don't use Google Drive, look under the File menu for other options.\n",
        "\n",
        "Once you make a copy, any additional changes you make will be saved automatically, so now you can continue without worrying about losing your work.\n",
        "\n",
        "Once you've completed all the exercises and questions, you can **submit** work to me by going to the File menu, clicking on download, and choosing .ipynb. You can submit the file according to class directions (for example, upload it to a D2L Assignment folder)."
      ],
      "metadata": {
        "id": "H2tlRsRKGrHp"
      }
    },
    {
      "cell_type": "markdown",
      "source": [
        "## Accessing and Sorting Data"
      ],
      "metadata": {
        "id": "UccqoYAXg7vl"
      }
    },
    {
      "cell_type": "markdown",
      "source": [
        "### Getting Information with df.info()\n",
        "\n",
        "OK, we've loaded our data. Let's get to work analyzing data! To begin with, let's look at the basic structure of our data. We want to know things like:\n",
        "\n",
        "1. How many **observations** (i.e., the rows of the data frame, each representing a different food item) are in our data frame?\n",
        "2. Which **attributes** does the dataframe record for each observation? What **data type** is each column?\n",
        "\n",
        "We can use the .info() function to find this out:\n",
        "\n",
        "\n",
        "\n",
        "```\n",
        "data_frame_name.info()\n",
        "```\n",
        "\n",
        "Let's do this for the McDonald's data.\n",
        "\n"
      ],
      "metadata": {
        "id": "lQcZkuVOA-G6"
      }
    },
    {
      "cell_type": "code",
      "source": [
        "\n",
        "mcd_df.info()"
      ],
      "metadata": {
        "colab": {
          "base_uri": "https://localhost:8080/"
        },
        "id": "gcIZOeuNki5a",
        "outputId": "513d35bf-6d24-4c86-d8c9-e4ac173dbeab"
      },
      "execution_count": null,
      "outputs": [
        {
          "output_type": "stream",
          "name": "stdout",
          "text": [
            "<class 'pandas.core.frame.DataFrame'>\n",
            "RangeIndex: 260 entries, 0 to 259\n",
            "Data columns (total 24 columns):\n",
            " #   Column                         Non-Null Count  Dtype  \n",
            "---  ------                         --------------  -----  \n",
            " 0   Category                       260 non-null    object \n",
            " 1   Item                           260 non-null    object \n",
            " 2   Serving Size                   260 non-null    object \n",
            " 3   Calories                       260 non-null    int64  \n",
            " 4   Calories from Fat              260 non-null    int64  \n",
            " 5   Total Fat                      260 non-null    float64\n",
            " 6   Total Fat (% Daily Value)      260 non-null    int64  \n",
            " 7   Saturated Fat                  260 non-null    float64\n",
            " 8   Saturated Fat (% Daily Value)  260 non-null    int64  \n",
            " 9   Trans Fat                      260 non-null    float64\n",
            " 10  Cholesterol                    260 non-null    int64  \n",
            " 11  Cholesterol (% Daily Value)    260 non-null    int64  \n",
            " 12  Sodium                         260 non-null    int64  \n",
            " 13  Sodium (% Daily Value)         260 non-null    int64  \n",
            " 14  Carbohydrates                  260 non-null    int64  \n",
            " 15  Carbohydrates (% Daily Value)  260 non-null    int64  \n",
            " 16  Dietary Fiber                  260 non-null    int64  \n",
            " 17  Dietary Fiber (% Daily Value)  260 non-null    int64  \n",
            " 18  Sugars                         260 non-null    int64  \n",
            " 19  Protein                        260 non-null    int64  \n",
            " 20  Vitamin A (% Daily Value)      260 non-null    int64  \n",
            " 21  Vitamin C (% Daily Value)      260 non-null    int64  \n",
            " 22  Calcium (% Daily Value)        260 non-null    int64  \n",
            " 23  Iron (% Daily Value)           260 non-null    int64  \n",
            "dtypes: float64(3), int64(18), object(3)\n",
            "memory usage: 48.9+ KB\n"
          ]
        }
      ]
    },
    {
      "cell_type": "markdown",
      "source": [
        "### Pandas Data Types\n",
        "Here the, *Non-Null Count* tells us how many non-empty observations there are (260 in this case). The data types are \n",
        "1. `object` (a string such as \"Hello world!\" or \"Pandas eat bamboo!\")\n",
        "2. `int64` (an integer, such as 4 or -43463) \n",
        "3. `float64` (a floating point number, such 433.64). \n",
        "\n",
        "Other data types you might see include:\n",
        "4. `bool` (a boolean value of `True` or `False`)\n",
        "5. `datetime64` ( a date and time).\n"
      ],
      "metadata": {
        "id": "ACaoZ565lAw9"
      }
    },
    {
      "cell_type": "markdown",
      "source": [
        "OK, let's see we just want to work with information about `Calories`. We can retrieve this **series** of data by using the following command (in Pandas, a series is a \"list\" of values):\n",
        "\n",
        "\n",
        "\n",
        "```\n",
        "data_frame_name['Column_name']\n",
        "\n",
        "```\n",
        "\n",
        "Let's try it out! By default, Pandas will show us the first five and last five rows of the series.\n"
      ],
      "metadata": {
        "id": "-79tmYbpmV8X"
      }
    },
    {
      "cell_type": "code",
      "source": [
        "mcd_df['Calories']"
      ],
      "metadata": {
        "colab": {
          "base_uri": "https://localhost:8080/"
        },
        "id": "rLuvpZ2gm0ei",
        "outputId": "f94e7d08-2ee4-46a8-cd00-d5e274e85fb9"
      },
      "execution_count": null,
      "outputs": [
        {
          "output_type": "execute_result",
          "data": {
            "text/plain": [
              "0      300\n",
              "1      250\n",
              "2      370\n",
              "3      450\n",
              "4      400\n",
              "      ... \n",
              "255    510\n",
              "256    690\n",
              "257    340\n",
              "258    810\n",
              "259    410\n",
              "Name: Calories, Length: 260, dtype: int64"
            ]
          },
          "metadata": {},
          "execution_count": 6
        }
      ]
    },
    {
      "cell_type": "markdown",
      "source": [
        "### Sorting Data Using df.sort_values()\n",
        "OK, let's say we want to \"sort\" the data to find the food with the most calories. We can do using panda's `df.sort_values()`, which works as follows:\n",
        "\n",
        "\n",
        "\n",
        "```\n",
        "data_frame_name.sort_values(`Column name\", ascending = True) \n",
        "# or \n",
        "data_frame_name.sort_values(`Column name\", ascending = False) \n",
        "```\n",
        "Here Ascending = True means \"sort data from smallest to largest\", while Ascending = False sorts from largest to smallest. Let's do this for calories:\n"
      ],
      "metadata": {
        "id": "UG-Rit-vn-v4"
      }
    },
    {
      "cell_type": "code",
      "source": [
        "mcd_df.sort_values('Calories', ascending = False)"
      ],
      "metadata": {
        "colab": {
          "base_uri": "https://localhost:8080/"
        },
        "id": "-YqKU_c-o8CR",
        "outputId": "a0fb13c4-cd3b-433f-e8c2-9797a4488ac8"
      },
      "execution_count": null,
      "outputs": [
        {
          "output_type": "execute_result",
          "data": {
            "text/plain": [
              "           Category                                               Item  \\\n",
              "82   Chicken & Fish                       Chicken McNuggets (40 piece)   \n",
              "32        Breakfast        Big Breakfast with Hotcakes (Large Biscuit)   \n",
              "31        Breakfast      Big Breakfast with Hotcakes (Regular Biscuit)   \n",
              "34        Breakfast  Big Breakfast with Hotcakes and Egg Whites (La...   \n",
              "33        Breakfast  Big Breakfast with Hotcakes and Egg Whites (Re...   \n",
              "..              ...                                                ...   \n",
              "117       Beverages                                  Diet Coke (Child)   \n",
              "116       Beverages                                  Diet Coke (Large)   \n",
              "115       Beverages                                 Diet Coke (Medium)   \n",
              "114       Beverages                                  Diet Coke (Small)   \n",
              "146    Coffee & Tea                                    Coffee (Medium)   \n",
              "\n",
              "        Serving Size  Calories  Calories from Fat  Total Fat  \\\n",
              "82   22.8 oz (646 g)      1880               1060      118.0   \n",
              "32   15.3 oz (434 g)      1150                540       60.0   \n",
              "31   14.8 oz (420 g)      1090                510       56.0   \n",
              "34   15.4 oz (437 g)      1050                450       50.0   \n",
              "33   14.9 oz (423 g)       990                410       46.0   \n",
              "..               ...       ...                ...        ...   \n",
              "117     12 fl oz cup         0                  0        0.0   \n",
              "116     30 fl oz cup         0                  0        0.0   \n",
              "115     21 fl oz cup         0                  0        0.0   \n",
              "114     16 fl oz cup         0                  0        0.0   \n",
              "146     16 fl oz cup         0                  0        0.0   \n",
              "\n",
              "     Total Fat (% Daily Value)  Saturated Fat  Saturated Fat (% Daily Value)  \\\n",
              "82                         182           20.0                            101   \n",
              "32                          93           20.0                            100   \n",
              "31                          87           19.0                             96   \n",
              "34                          77           16.0                             81   \n",
              "33                          70           16.0                             78   \n",
              "..                         ...            ...                            ...   \n",
              "117                          0            0.0                              0   \n",
              "116                          0            0.0                              0   \n",
              "115                          0            0.0                              0   \n",
              "114                          0            0.0                              0   \n",
              "146                          0            0.0                              0   \n",
              "\n",
              "     Trans Fat  ...  Carbohydrates  Carbohydrates (% Daily Value)  \\\n",
              "82         1.0  ...            118                             39   \n",
              "32         0.0  ...            116                             39   \n",
              "31         0.0  ...            111                             37   \n",
              "34         0.0  ...            115                             38   \n",
              "33         0.0  ...            110                             37   \n",
              "..         ...  ...            ...                            ...   \n",
              "117        0.0  ...              0                              0   \n",
              "116        0.0  ...              0                              0   \n",
              "115        0.0  ...              0                              0   \n",
              "114        0.0  ...              0                              0   \n",
              "146        0.0  ...              0                              0   \n",
              "\n",
              "     Dietary Fiber  Dietary Fiber (% Daily Value)  Sugars  Protein  \\\n",
              "82               6                             24       1       87   \n",
              "32               7                             28      17       36   \n",
              "31               6                             23      17       36   \n",
              "34               7                             28      18       35   \n",
              "33               6                             23      17       35   \n",
              "..             ...                            ...     ...      ...   \n",
              "117              0                              0       0        0   \n",
              "116              0                              0       0        0   \n",
              "115              0                              0       0        0   \n",
              "114              0                              0       0        0   \n",
              "146              0                              0       0        0   \n",
              "\n",
              "     Vitamin A (% Daily Value)  Vitamin C (% Daily Value)  \\\n",
              "82                           0                         15   \n",
              "32                          15                          2   \n",
              "31                          15                          2   \n",
              "34                           4                          2   \n",
              "33                           0                          2   \n",
              "..                         ...                        ...   \n",
              "117                          0                          0   \n",
              "116                          0                          0   \n",
              "115                          0                          0   \n",
              "114                          0                          0   \n",
              "146                          0                          0   \n",
              "\n",
              "     Calcium (% Daily Value)  Iron (% Daily Value)  \n",
              "82                         8                    25  \n",
              "32                        30                    40  \n",
              "31                        25                    40  \n",
              "34                        25                    30  \n",
              "33                        25                    30  \n",
              "..                       ...                   ...  \n",
              "117                        0                     0  \n",
              "116                        0                     0  \n",
              "115                        0                     0  \n",
              "114                        0                     0  \n",
              "146                        0                     0  \n",
              "\n",
              "[260 rows x 24 columns]"
            ],
            "text/html": [
              "\n",
              "  <div id=\"df-85f2bc46-1a80-4e8b-a5f1-44e4c1bd57e6\">\n",
              "    <div class=\"colab-df-container\">\n",
              "      <div>\n",
              "<style scoped>\n",
              "    .dataframe tbody tr th:only-of-type {\n",
              "        vertical-align: middle;\n",
              "    }\n",
              "\n",
              "    .dataframe tbody tr th {\n",
              "        vertical-align: top;\n",
              "    }\n",
              "\n",
              "    .dataframe thead th {\n",
              "        text-align: right;\n",
              "    }\n",
              "</style>\n",
              "<table border=\"1\" class=\"dataframe\">\n",
              "  <thead>\n",
              "    <tr style=\"text-align: right;\">\n",
              "      <th></th>\n",
              "      <th>Category</th>\n",
              "      <th>Item</th>\n",
              "      <th>Serving Size</th>\n",
              "      <th>Calories</th>\n",
              "      <th>Calories from Fat</th>\n",
              "      <th>Total Fat</th>\n",
              "      <th>Total Fat (% Daily Value)</th>\n",
              "      <th>Saturated Fat</th>\n",
              "      <th>Saturated Fat (% Daily Value)</th>\n",
              "      <th>Trans Fat</th>\n",
              "      <th>...</th>\n",
              "      <th>Carbohydrates</th>\n",
              "      <th>Carbohydrates (% Daily Value)</th>\n",
              "      <th>Dietary Fiber</th>\n",
              "      <th>Dietary Fiber (% Daily Value)</th>\n",
              "      <th>Sugars</th>\n",
              "      <th>Protein</th>\n",
              "      <th>Vitamin A (% Daily Value)</th>\n",
              "      <th>Vitamin C (% Daily Value)</th>\n",
              "      <th>Calcium (% Daily Value)</th>\n",
              "      <th>Iron (% Daily Value)</th>\n",
              "    </tr>\n",
              "  </thead>\n",
              "  <tbody>\n",
              "    <tr>\n",
              "      <th>82</th>\n",
              "      <td>Chicken &amp; Fish</td>\n",
              "      <td>Chicken McNuggets (40 piece)</td>\n",
              "      <td>22.8 oz (646 g)</td>\n",
              "      <td>1880</td>\n",
              "      <td>1060</td>\n",
              "      <td>118.0</td>\n",
              "      <td>182</td>\n",
              "      <td>20.0</td>\n",
              "      <td>101</td>\n",
              "      <td>1.0</td>\n",
              "      <td>...</td>\n",
              "      <td>118</td>\n",
              "      <td>39</td>\n",
              "      <td>6</td>\n",
              "      <td>24</td>\n",
              "      <td>1</td>\n",
              "      <td>87</td>\n",
              "      <td>0</td>\n",
              "      <td>15</td>\n",
              "      <td>8</td>\n",
              "      <td>25</td>\n",
              "    </tr>\n",
              "    <tr>\n",
              "      <th>32</th>\n",
              "      <td>Breakfast</td>\n",
              "      <td>Big Breakfast with Hotcakes (Large Biscuit)</td>\n",
              "      <td>15.3 oz (434 g)</td>\n",
              "      <td>1150</td>\n",
              "      <td>540</td>\n",
              "      <td>60.0</td>\n",
              "      <td>93</td>\n",
              "      <td>20.0</td>\n",
              "      <td>100</td>\n",
              "      <td>0.0</td>\n",
              "      <td>...</td>\n",
              "      <td>116</td>\n",
              "      <td>39</td>\n",
              "      <td>7</td>\n",
              "      <td>28</td>\n",
              "      <td>17</td>\n",
              "      <td>36</td>\n",
              "      <td>15</td>\n",
              "      <td>2</td>\n",
              "      <td>30</td>\n",
              "      <td>40</td>\n",
              "    </tr>\n",
              "    <tr>\n",
              "      <th>31</th>\n",
              "      <td>Breakfast</td>\n",
              "      <td>Big Breakfast with Hotcakes (Regular Biscuit)</td>\n",
              "      <td>14.8 oz (420 g)</td>\n",
              "      <td>1090</td>\n",
              "      <td>510</td>\n",
              "      <td>56.0</td>\n",
              "      <td>87</td>\n",
              "      <td>19.0</td>\n",
              "      <td>96</td>\n",
              "      <td>0.0</td>\n",
              "      <td>...</td>\n",
              "      <td>111</td>\n",
              "      <td>37</td>\n",
              "      <td>6</td>\n",
              "      <td>23</td>\n",
              "      <td>17</td>\n",
              "      <td>36</td>\n",
              "      <td>15</td>\n",
              "      <td>2</td>\n",
              "      <td>25</td>\n",
              "      <td>40</td>\n",
              "    </tr>\n",
              "    <tr>\n",
              "      <th>34</th>\n",
              "      <td>Breakfast</td>\n",
              "      <td>Big Breakfast with Hotcakes and Egg Whites (La...</td>\n",
              "      <td>15.4 oz (437 g)</td>\n",
              "      <td>1050</td>\n",
              "      <td>450</td>\n",
              "      <td>50.0</td>\n",
              "      <td>77</td>\n",
              "      <td>16.0</td>\n",
              "      <td>81</td>\n",
              "      <td>0.0</td>\n",
              "      <td>...</td>\n",
              "      <td>115</td>\n",
              "      <td>38</td>\n",
              "      <td>7</td>\n",
              "      <td>28</td>\n",
              "      <td>18</td>\n",
              "      <td>35</td>\n",
              "      <td>4</td>\n",
              "      <td>2</td>\n",
              "      <td>25</td>\n",
              "      <td>30</td>\n",
              "    </tr>\n",
              "    <tr>\n",
              "      <th>33</th>\n",
              "      <td>Breakfast</td>\n",
              "      <td>Big Breakfast with Hotcakes and Egg Whites (Re...</td>\n",
              "      <td>14.9 oz (423 g)</td>\n",
              "      <td>990</td>\n",
              "      <td>410</td>\n",
              "      <td>46.0</td>\n",
              "      <td>70</td>\n",
              "      <td>16.0</td>\n",
              "      <td>78</td>\n",
              "      <td>0.0</td>\n",
              "      <td>...</td>\n",
              "      <td>110</td>\n",
              "      <td>37</td>\n",
              "      <td>6</td>\n",
              "      <td>23</td>\n",
              "      <td>17</td>\n",
              "      <td>35</td>\n",
              "      <td>0</td>\n",
              "      <td>2</td>\n",
              "      <td>25</td>\n",
              "      <td>30</td>\n",
              "    </tr>\n",
              "    <tr>\n",
              "      <th>...</th>\n",
              "      <td>...</td>\n",
              "      <td>...</td>\n",
              "      <td>...</td>\n",
              "      <td>...</td>\n",
              "      <td>...</td>\n",
              "      <td>...</td>\n",
              "      <td>...</td>\n",
              "      <td>...</td>\n",
              "      <td>...</td>\n",
              "      <td>...</td>\n",
              "      <td>...</td>\n",
              "      <td>...</td>\n",
              "      <td>...</td>\n",
              "      <td>...</td>\n",
              "      <td>...</td>\n",
              "      <td>...</td>\n",
              "      <td>...</td>\n",
              "      <td>...</td>\n",
              "      <td>...</td>\n",
              "      <td>...</td>\n",
              "      <td>...</td>\n",
              "    </tr>\n",
              "    <tr>\n",
              "      <th>117</th>\n",
              "      <td>Beverages</td>\n",
              "      <td>Diet Coke (Child)</td>\n",
              "      <td>12 fl oz cup</td>\n",
              "      <td>0</td>\n",
              "      <td>0</td>\n",
              "      <td>0.0</td>\n",
              "      <td>0</td>\n",
              "      <td>0.0</td>\n",
              "      <td>0</td>\n",
              "      <td>0.0</td>\n",
              "      <td>...</td>\n",
              "      <td>0</td>\n",
              "      <td>0</td>\n",
              "      <td>0</td>\n",
              "      <td>0</td>\n",
              "      <td>0</td>\n",
              "      <td>0</td>\n",
              "      <td>0</td>\n",
              "      <td>0</td>\n",
              "      <td>0</td>\n",
              "      <td>0</td>\n",
              "    </tr>\n",
              "    <tr>\n",
              "      <th>116</th>\n",
              "      <td>Beverages</td>\n",
              "      <td>Diet Coke (Large)</td>\n",
              "      <td>30 fl oz cup</td>\n",
              "      <td>0</td>\n",
              "      <td>0</td>\n",
              "      <td>0.0</td>\n",
              "      <td>0</td>\n",
              "      <td>0.0</td>\n",
              "      <td>0</td>\n",
              "      <td>0.0</td>\n",
              "      <td>...</td>\n",
              "      <td>0</td>\n",
              "      <td>0</td>\n",
              "      <td>0</td>\n",
              "      <td>0</td>\n",
              "      <td>0</td>\n",
              "      <td>0</td>\n",
              "      <td>0</td>\n",
              "      <td>0</td>\n",
              "      <td>0</td>\n",
              "      <td>0</td>\n",
              "    </tr>\n",
              "    <tr>\n",
              "      <th>115</th>\n",
              "      <td>Beverages</td>\n",
              "      <td>Diet Coke (Medium)</td>\n",
              "      <td>21 fl oz cup</td>\n",
              "      <td>0</td>\n",
              "      <td>0</td>\n",
              "      <td>0.0</td>\n",
              "      <td>0</td>\n",
              "      <td>0.0</td>\n",
              "      <td>0</td>\n",
              "      <td>0.0</td>\n",
              "      <td>...</td>\n",
              "      <td>0</td>\n",
              "      <td>0</td>\n",
              "      <td>0</td>\n",
              "      <td>0</td>\n",
              "      <td>0</td>\n",
              "      <td>0</td>\n",
              "      <td>0</td>\n",
              "      <td>0</td>\n",
              "      <td>0</td>\n",
              "      <td>0</td>\n",
              "    </tr>\n",
              "    <tr>\n",
              "      <th>114</th>\n",
              "      <td>Beverages</td>\n",
              "      <td>Diet Coke (Small)</td>\n",
              "      <td>16 fl oz cup</td>\n",
              "      <td>0</td>\n",
              "      <td>0</td>\n",
              "      <td>0.0</td>\n",
              "      <td>0</td>\n",
              "      <td>0.0</td>\n",
              "      <td>0</td>\n",
              "      <td>0.0</td>\n",
              "      <td>...</td>\n",
              "      <td>0</td>\n",
              "      <td>0</td>\n",
              "      <td>0</td>\n",
              "      <td>0</td>\n",
              "      <td>0</td>\n",
              "      <td>0</td>\n",
              "      <td>0</td>\n",
              "      <td>0</td>\n",
              "      <td>0</td>\n",
              "      <td>0</td>\n",
              "    </tr>\n",
              "    <tr>\n",
              "      <th>146</th>\n",
              "      <td>Coffee &amp; Tea</td>\n",
              "      <td>Coffee (Medium)</td>\n",
              "      <td>16 fl oz cup</td>\n",
              "      <td>0</td>\n",
              "      <td>0</td>\n",
              "      <td>0.0</td>\n",
              "      <td>0</td>\n",
              "      <td>0.0</td>\n",
              "      <td>0</td>\n",
              "      <td>0.0</td>\n",
              "      <td>...</td>\n",
              "      <td>0</td>\n",
              "      <td>0</td>\n",
              "      <td>0</td>\n",
              "      <td>0</td>\n",
              "      <td>0</td>\n",
              "      <td>0</td>\n",
              "      <td>0</td>\n",
              "      <td>0</td>\n",
              "      <td>0</td>\n",
              "      <td>0</td>\n",
              "    </tr>\n",
              "  </tbody>\n",
              "</table>\n",
              "<p>260 rows × 24 columns</p>\n",
              "</div>\n",
              "      <button class=\"colab-df-convert\" onclick=\"convertToInteractive('df-85f2bc46-1a80-4e8b-a5f1-44e4c1bd57e6')\"\n",
              "              title=\"Convert this dataframe to an interactive table.\"\n",
              "              style=\"display:none;\">\n",
              "        \n",
              "  <svg xmlns=\"http://www.w3.org/2000/svg\" height=\"24px\"viewBox=\"0 0 24 24\"\n",
              "       width=\"24px\">\n",
              "    <path d=\"M0 0h24v24H0V0z\" fill=\"none\"/>\n",
              "    <path d=\"M18.56 5.44l.94 2.06.94-2.06 2.06-.94-2.06-.94-.94-2.06-.94 2.06-2.06.94zm-11 1L8.5 8.5l.94-2.06 2.06-.94-2.06-.94L8.5 2.5l-.94 2.06-2.06.94zm10 10l.94 2.06.94-2.06 2.06-.94-2.06-.94-.94-2.06-.94 2.06-2.06.94z\"/><path d=\"M17.41 7.96l-1.37-1.37c-.4-.4-.92-.59-1.43-.59-.52 0-1.04.2-1.43.59L10.3 9.45l-7.72 7.72c-.78.78-.78 2.05 0 2.83L4 21.41c.39.39.9.59 1.41.59.51 0 1.02-.2 1.41-.59l7.78-7.78 2.81-2.81c.8-.78.8-2.07 0-2.86zM5.41 20L4 18.59l7.72-7.72 1.47 1.35L5.41 20z\"/>\n",
              "  </svg>\n",
              "      </button>\n",
              "      \n",
              "  <style>\n",
              "    .colab-df-container {\n",
              "      display:flex;\n",
              "      flex-wrap:wrap;\n",
              "      gap: 12px;\n",
              "    }\n",
              "\n",
              "    .colab-df-convert {\n",
              "      background-color: #E8F0FE;\n",
              "      border: none;\n",
              "      border-radius: 50%;\n",
              "      cursor: pointer;\n",
              "      display: none;\n",
              "      fill: #1967D2;\n",
              "      height: 32px;\n",
              "      padding: 0 0 0 0;\n",
              "      width: 32px;\n",
              "    }\n",
              "\n",
              "    .colab-df-convert:hover {\n",
              "      background-color: #E2EBFA;\n",
              "      box-shadow: 0px 1px 2px rgba(60, 64, 67, 0.3), 0px 1px 3px 1px rgba(60, 64, 67, 0.15);\n",
              "      fill: #174EA6;\n",
              "    }\n",
              "\n",
              "    [theme=dark] .colab-df-convert {\n",
              "      background-color: #3B4455;\n",
              "      fill: #D2E3FC;\n",
              "    }\n",
              "\n",
              "    [theme=dark] .colab-df-convert:hover {\n",
              "      background-color: #434B5C;\n",
              "      box-shadow: 0px 1px 3px 1px rgba(0, 0, 0, 0.15);\n",
              "      filter: drop-shadow(0px 1px 2px rgba(0, 0, 0, 0.3));\n",
              "      fill: #FFFFFF;\n",
              "    }\n",
              "  </style>\n",
              "\n",
              "      <script>\n",
              "        const buttonEl =\n",
              "          document.querySelector('#df-85f2bc46-1a80-4e8b-a5f1-44e4c1bd57e6 button.colab-df-convert');\n",
              "        buttonEl.style.display =\n",
              "          google.colab.kernel.accessAllowed ? 'block' : 'none';\n",
              "\n",
              "        async function convertToInteractive(key) {\n",
              "          const element = document.querySelector('#df-85f2bc46-1a80-4e8b-a5f1-44e4c1bd57e6');\n",
              "          const dataTable =\n",
              "            await google.colab.kernel.invokeFunction('convertToInteractive',\n",
              "                                                     [key], {});\n",
              "          if (!dataTable) return;\n",
              "\n",
              "          const docLinkHtml = 'Like what you see? Visit the ' +\n",
              "            '<a target=\"_blank\" href=https://colab.research.google.com/notebooks/data_table.ipynb>data table notebook</a>'\n",
              "            + ' to learn more about interactive tables.';\n",
              "          element.innerHTML = '';\n",
              "          dataTable['output_type'] = 'display_data';\n",
              "          await google.colab.output.renderOutput(dataTable, element);\n",
              "          const docLink = document.createElement('div');\n",
              "          docLink.innerHTML = docLinkHtml;\n",
              "          element.appendChild(docLink);\n",
              "        }\n",
              "      </script>\n",
              "    </div>\n",
              "  </div>\n",
              "  "
            ]
          },
          "metadata": {},
          "execution_count": 7
        }
      ]
    },
    {
      "cell_type": "markdown",
      "source": [
        "It looks the Chicken McNuggets (40 pieces) has a lot of calories!"
      ],
      "metadata": {
        "id": "OwuiLsJ9pJin"
      }
    },
    {
      "cell_type": "markdown",
      "source": [
        "## Exercise 2: sort_values()\n",
        "a. Use the sort_values() function to find out which food items have the most and least Sugars.\n",
        "\n",
        "b. What happens if you apply sort_values() to an \"object\" column, such as  \"Serving Size\"? Experiment and find out.\n",
        "\n",
        "c. It turns you can COMBINE `df.sort_values()` and `df.head()`. You just need to type `df.sort_values(column_name).head(number_of_rows)`. See if you can do this to display just the first THREE rows of the sorted Sugars column.\n",
        "\n"
      ],
      "metadata": {
        "id": "heCDlZjSpW7s"
      }
    },
    {
      "cell_type": "code",
      "source": [
        "# Your code below\n"
      ],
      "metadata": {
        "id": "6RrI2NKsp9cI"
      },
      "execution_count": null,
      "outputs": []
    },
    {
      "cell_type": "code",
      "source": [
        "# Your code below\n"
      ],
      "metadata": {
        "id": "o6Z4dexdp9sX"
      },
      "execution_count": null,
      "outputs": []
    },
    {
      "cell_type": "code",
      "source": [
        "# Your code below\n"
      ],
      "metadata": {
        "id": "HiLkVmsjqFUN"
      },
      "execution_count": null,
      "outputs": []
    },
    {
      "cell_type": "markdown",
      "source": [
        "## What is \"Average\"? Mean, Median, and Mode\n",
        "\n",
        "\n"
      ],
      "metadata": {
        "id": "TbPbMcHFlmCl"
      }
    },
    {
      "cell_type": "markdown",
      "source": [
        "\n",
        "Here, \"average\" might mean one of three different things:\n",
        "\n",
        "* The **mean** is obtained by adding the calories of all items and dividing by the number of food items. So, if the calories were $(5, 5, 10, 20, 40)$ the mean would be $(80/5) = 16$.\n",
        "* The **median** calories is the \"middle\" value. In this case, it would be 10. If there are two middle items, it will give the average of these two.\n",
        "* The **mode** calories is the most frequently appearing value. In this case, the mode is 5.\n",
        "\n",
        "We can use Python to calculate each of these!"
      ],
      "metadata": {
        "id": "w2uSl57aj8d8"
      }
    },
    {
      "cell_type": "code",
      "source": [
        "# Mean calories using using df.mean()\n",
        "mcd_df[\"Calories\"].mean()"
      ],
      "metadata": {
        "colab": {
          "base_uri": "https://localhost:8080/"
        },
        "id": "W0BD0O8kngje",
        "outputId": "1fb65759-18e3-410c-e6a2-aca290214f0d"
      },
      "execution_count": null,
      "outputs": [
        {
          "output_type": "execute_result",
          "data": {
            "text/plain": [
              "368.2692307692308"
            ]
          },
          "metadata": {},
          "execution_count": 11
        }
      ]
    },
    {
      "cell_type": "code",
      "source": [
        "# Median calories using df.median()\n",
        "mcd_df[\"Calories\"].median()"
      ],
      "metadata": {
        "colab": {
          "base_uri": "https://localhost:8080/"
        },
        "id": "qfKQHdmQngpz",
        "outputId": "e8d28c8b-a13c-41f6-aa49-ab86e0badcee"
      },
      "execution_count": null,
      "outputs": [
        {
          "output_type": "execute_result",
          "data": {
            "text/plain": [
              "340.0"
            ]
          },
          "metadata": {},
          "execution_count": 12
        }
      ]
    },
    {
      "cell_type": "code",
      "source": [
        "# Mode calories using df.mode()\n",
        "mcd_df[\"Calories\"].mode()"
      ],
      "metadata": {
        "colab": {
          "base_uri": "https://localhost:8080/"
        },
        "id": "WkRxArGssl4z",
        "outputId": "912a0d48-7091-440c-f3cc-fa3e3bbb7e68"
      },
      "execution_count": null,
      "outputs": [
        {
          "output_type": "execute_result",
          "data": {
            "text/plain": [
              "0    0\n",
              "dtype: int64"
            ]
          },
          "metadata": {},
          "execution_count": 13
        }
      ]
    },
    {
      "cell_type": "markdown",
      "source": [
        "The mode (of 0!) might be surprising, until you consider what it might mean. It simply means that, compared to any other *specific* number, 0 is the most common calorie count. And there are plenty of items with 0 calories (coffee, tea, diet soda, etc.)."
      ],
      "metadata": {
        "id": "4KHj9e_dstV6"
      }
    },
    {
      "cell_type": "markdown",
      "source": [
        "## Exercise 3\n",
        "Use Python to calculate the mean, median, and mode of the \"Total Fat\" column. That is, `mcd_df[\"Total Fat\"]` Do any of these results surpise you?"
      ],
      "metadata": {
        "id": "qzWDilbl1Q8S"
      }
    },
    {
      "cell_type": "code",
      "source": [
        "# Mean fat -- your code below"
      ],
      "metadata": {
        "id": "gily6OGK1ioU"
      },
      "execution_count": null,
      "outputs": []
    },
    {
      "cell_type": "code",
      "source": [
        "# Median fat -- your code below"
      ],
      "metadata": {
        "id": "ou5xZNi11kpg"
      },
      "execution_count": null,
      "outputs": []
    },
    {
      "cell_type": "code",
      "source": [
        "# Mode fat -- your code below"
      ],
      "metadata": {
        "id": "XDwDsv2s1mWB"
      },
      "execution_count": null,
      "outputs": []
    },
    {
      "cell_type": "markdown",
      "source": [
        "## Measuring the \"Spread\" of Data\n",
        "Along with figuring out the “average” of the data items, we are often concerned with the **dispersion**, or how close the data are to one another. The **range** is probably the simplest measure of dispersion, and is obtained by subtracting the smallest data item from the largest data item. For example, if our data set is ${1, 2, 3}$, the range is $3 – 1 = 2$. \n",
        "\n",
        "In Python, we can determine the range of calories by using the `max()` and `min()` functions:"
      ],
      "metadata": {
        "id": "bWS1ffaMxEYv"
      }
    },
    {
      "cell_type": "code",
      "source": [
        "# Calculate the range\n",
        "max = mcd_df[\"Calories\"].max()\n",
        "min = mcd_df[\"Calories\"].min()\n",
        "range = max - min\n",
        "\n",
        "print(\"The range is \", range)"
      ],
      "metadata": {
        "colab": {
          "base_uri": "https://localhost:8080/"
        },
        "id": "KPo4EHubxh_R",
        "outputId": "0ce16f79-aa93-43bf-dad1-ef7e44423df5"
      },
      "execution_count": null,
      "outputs": [
        {
          "output_type": "stream",
          "name": "stdout",
          "text": [
            "The range is  1880\n"
          ]
        }
      ]
    },
    {
      "cell_type": "markdown",
      "source": [
        "We could also use our knowledge of the max calories to determine WHICH food item (or food items) has the max calories by the following:\n",
        "\n"
      ],
      "metadata": {
        "id": "5VKD6M8jsQJG"
      }
    },
    {
      "cell_type": "code",
      "source": [
        "# Get a list of boolean values about whether each row has Calories == 1880\n",
        "mcd_df[\"Calories\"] == max"
      ],
      "metadata": {
        "colab": {
          "base_uri": "https://localhost:8080/"
        },
        "id": "Iei2Zw3zr_ET",
        "outputId": "268edbd0-f6fa-40fe-e3e1-8e923db27cd9"
      },
      "execution_count": null,
      "outputs": [
        {
          "output_type": "execute_result",
          "data": {
            "text/plain": [
              "0      False\n",
              "1      False\n",
              "2      False\n",
              "3      False\n",
              "4      False\n",
              "       ...  \n",
              "255    False\n",
              "256    False\n",
              "257    False\n",
              "258    False\n",
              "259    False\n",
              "Name: Calories, Length: 260, dtype: bool"
            ]
          },
          "metadata": {},
          "execution_count": 18
        }
      ]
    },
    {
      "cell_type": "code",
      "source": [
        "# We can now pass this as \"index\" to filter our data frame.\n",
        "# It will only show us rows that are \"True\"\n",
        "mcd_df[mcd_df[\"Calories\"] == max]"
      ],
      "metadata": {
        "colab": {
          "base_uri": "https://localhost:8080/",
          "height": 223
        },
        "id": "U7eTMbO6sbqq",
        "outputId": "3f2568e2-c009-4a6b-d15b-e706b8c29c1b"
      },
      "execution_count": null,
      "outputs": [
        {
          "output_type": "execute_result",
          "data": {
            "text/plain": [
              "          Category                          Item     Serving Size  Calories  \\\n",
              "82  Chicken & Fish  Chicken McNuggets (40 piece)  22.8 oz (646 g)      1880   \n",
              "\n",
              "    Calories from Fat  Total Fat  Total Fat (% Daily Value)  Saturated Fat  \\\n",
              "82               1060      118.0                        182           20.0   \n",
              "\n",
              "    Saturated Fat (% Daily Value)  Trans Fat  ...  Carbohydrates  \\\n",
              "82                            101        1.0  ...            118   \n",
              "\n",
              "    Carbohydrates (% Daily Value)  Dietary Fiber  \\\n",
              "82                             39              6   \n",
              "\n",
              "    Dietary Fiber (% Daily Value)  Sugars  Protein  Vitamin A (% Daily Value)  \\\n",
              "82                             24       1       87                          0   \n",
              "\n",
              "    Vitamin C (% Daily Value)  Calcium (% Daily Value)  Iron (% Daily Value)  \n",
              "82                         15                        8                    25  \n",
              "\n",
              "[1 rows x 24 columns]"
            ],
            "text/html": [
              "\n",
              "  <div id=\"df-b91c7f23-1127-4618-bbb1-51f0e6ba94a4\">\n",
              "    <div class=\"colab-df-container\">\n",
              "      <div>\n",
              "<style scoped>\n",
              "    .dataframe tbody tr th:only-of-type {\n",
              "        vertical-align: middle;\n",
              "    }\n",
              "\n",
              "    .dataframe tbody tr th {\n",
              "        vertical-align: top;\n",
              "    }\n",
              "\n",
              "    .dataframe thead th {\n",
              "        text-align: right;\n",
              "    }\n",
              "</style>\n",
              "<table border=\"1\" class=\"dataframe\">\n",
              "  <thead>\n",
              "    <tr style=\"text-align: right;\">\n",
              "      <th></th>\n",
              "      <th>Category</th>\n",
              "      <th>Item</th>\n",
              "      <th>Serving Size</th>\n",
              "      <th>Calories</th>\n",
              "      <th>Calories from Fat</th>\n",
              "      <th>Total Fat</th>\n",
              "      <th>Total Fat (% Daily Value)</th>\n",
              "      <th>Saturated Fat</th>\n",
              "      <th>Saturated Fat (% Daily Value)</th>\n",
              "      <th>Trans Fat</th>\n",
              "      <th>...</th>\n",
              "      <th>Carbohydrates</th>\n",
              "      <th>Carbohydrates (% Daily Value)</th>\n",
              "      <th>Dietary Fiber</th>\n",
              "      <th>Dietary Fiber (% Daily Value)</th>\n",
              "      <th>Sugars</th>\n",
              "      <th>Protein</th>\n",
              "      <th>Vitamin A (% Daily Value)</th>\n",
              "      <th>Vitamin C (% Daily Value)</th>\n",
              "      <th>Calcium (% Daily Value)</th>\n",
              "      <th>Iron (% Daily Value)</th>\n",
              "    </tr>\n",
              "  </thead>\n",
              "  <tbody>\n",
              "    <tr>\n",
              "      <th>82</th>\n",
              "      <td>Chicken &amp; Fish</td>\n",
              "      <td>Chicken McNuggets (40 piece)</td>\n",
              "      <td>22.8 oz (646 g)</td>\n",
              "      <td>1880</td>\n",
              "      <td>1060</td>\n",
              "      <td>118.0</td>\n",
              "      <td>182</td>\n",
              "      <td>20.0</td>\n",
              "      <td>101</td>\n",
              "      <td>1.0</td>\n",
              "      <td>...</td>\n",
              "      <td>118</td>\n",
              "      <td>39</td>\n",
              "      <td>6</td>\n",
              "      <td>24</td>\n",
              "      <td>1</td>\n",
              "      <td>87</td>\n",
              "      <td>0</td>\n",
              "      <td>15</td>\n",
              "      <td>8</td>\n",
              "      <td>25</td>\n",
              "    </tr>\n",
              "  </tbody>\n",
              "</table>\n",
              "<p>1 rows × 24 columns</p>\n",
              "</div>\n",
              "      <button class=\"colab-df-convert\" onclick=\"convertToInteractive('df-b91c7f23-1127-4618-bbb1-51f0e6ba94a4')\"\n",
              "              title=\"Convert this dataframe to an interactive table.\"\n",
              "              style=\"display:none;\">\n",
              "        \n",
              "  <svg xmlns=\"http://www.w3.org/2000/svg\" height=\"24px\"viewBox=\"0 0 24 24\"\n",
              "       width=\"24px\">\n",
              "    <path d=\"M0 0h24v24H0V0z\" fill=\"none\"/>\n",
              "    <path d=\"M18.56 5.44l.94 2.06.94-2.06 2.06-.94-2.06-.94-.94-2.06-.94 2.06-2.06.94zm-11 1L8.5 8.5l.94-2.06 2.06-.94-2.06-.94L8.5 2.5l-.94 2.06-2.06.94zm10 10l.94 2.06.94-2.06 2.06-.94-2.06-.94-.94-2.06-.94 2.06-2.06.94z\"/><path d=\"M17.41 7.96l-1.37-1.37c-.4-.4-.92-.59-1.43-.59-.52 0-1.04.2-1.43.59L10.3 9.45l-7.72 7.72c-.78.78-.78 2.05 0 2.83L4 21.41c.39.39.9.59 1.41.59.51 0 1.02-.2 1.41-.59l7.78-7.78 2.81-2.81c.8-.78.8-2.07 0-2.86zM5.41 20L4 18.59l7.72-7.72 1.47 1.35L5.41 20z\"/>\n",
              "  </svg>\n",
              "      </button>\n",
              "      \n",
              "  <style>\n",
              "    .colab-df-container {\n",
              "      display:flex;\n",
              "      flex-wrap:wrap;\n",
              "      gap: 12px;\n",
              "    }\n",
              "\n",
              "    .colab-df-convert {\n",
              "      background-color: #E8F0FE;\n",
              "      border: none;\n",
              "      border-radius: 50%;\n",
              "      cursor: pointer;\n",
              "      display: none;\n",
              "      fill: #1967D2;\n",
              "      height: 32px;\n",
              "      padding: 0 0 0 0;\n",
              "      width: 32px;\n",
              "    }\n",
              "\n",
              "    .colab-df-convert:hover {\n",
              "      background-color: #E2EBFA;\n",
              "      box-shadow: 0px 1px 2px rgba(60, 64, 67, 0.3), 0px 1px 3px 1px rgba(60, 64, 67, 0.15);\n",
              "      fill: #174EA6;\n",
              "    }\n",
              "\n",
              "    [theme=dark] .colab-df-convert {\n",
              "      background-color: #3B4455;\n",
              "      fill: #D2E3FC;\n",
              "    }\n",
              "\n",
              "    [theme=dark] .colab-df-convert:hover {\n",
              "      background-color: #434B5C;\n",
              "      box-shadow: 0px 1px 3px 1px rgba(0, 0, 0, 0.15);\n",
              "      filter: drop-shadow(0px 1px 2px rgba(0, 0, 0, 0.3));\n",
              "      fill: #FFFFFF;\n",
              "    }\n",
              "  </style>\n",
              "\n",
              "      <script>\n",
              "        const buttonEl =\n",
              "          document.querySelector('#df-b91c7f23-1127-4618-bbb1-51f0e6ba94a4 button.colab-df-convert');\n",
              "        buttonEl.style.display =\n",
              "          google.colab.kernel.accessAllowed ? 'block' : 'none';\n",
              "\n",
              "        async function convertToInteractive(key) {\n",
              "          const element = document.querySelector('#df-b91c7f23-1127-4618-bbb1-51f0e6ba94a4');\n",
              "          const dataTable =\n",
              "            await google.colab.kernel.invokeFunction('convertToInteractive',\n",
              "                                                     [key], {});\n",
              "          if (!dataTable) return;\n",
              "\n",
              "          const docLinkHtml = 'Like what you see? Visit the ' +\n",
              "            '<a target=\"_blank\" href=https://colab.research.google.com/notebooks/data_table.ipynb>data table notebook</a>'\n",
              "            + ' to learn more about interactive tables.';\n",
              "          element.innerHTML = '';\n",
              "          dataTable['output_type'] = 'display_data';\n",
              "          await google.colab.output.renderOutput(dataTable, element);\n",
              "          const docLink = document.createElement('div');\n",
              "          docLink.innerHTML = docLinkHtml;\n",
              "          element.appendChild(docLink);\n",
              "        }\n",
              "      </script>\n",
              "    </div>\n",
              "  </div>\n",
              "  "
            ]
          },
          "metadata": {},
          "execution_count": 19
        }
      ]
    },
    {
      "cell_type": "markdown",
      "source": [
        "The **variance** ($\\sigma^2$) is a more complex (and useful!) measure of dispersion calculated by determining the mean squared distance from the mean of the data set. In other words, it provides us with a measure of how different (on average) each member of the data is from the mean of the data set. Basically, you do the following:\n",
        "\n",
        "1. Figure out the mean of the data.\n",
        "2. Go through the data items one-by-one, and subtract the mean from each of them.\n",
        "3. Square each of these results.\n",
        "4. Add up the results.\n",
        "\n",
        "In practice, we often use the square root of the variance, which is called the **standard deviation** ($\\sigma$). In the case of calories, the standard deviation answers the question:\n",
        "\n",
        "> Given that the mean number of calories is around 368, around how many calories *on average* do food items differ from this mean?\n",
        "\n",
        "We can use Pandas to easily calculate both variance and standard deviation.\n"
      ],
      "metadata": {
        "id": "ZHWFoFc4xie0"
      }
    },
    {
      "cell_type": "code",
      "source": [
        "# Variance\n",
        "mcd_df[\"Calories\"].var()"
      ],
      "metadata": {
        "colab": {
          "base_uri": "https://localhost:8080/"
        },
        "id": "dFy9o4_AxmZK",
        "outputId": "a1a08099-1d2c-480b-b51e-f0562f61ea53"
      },
      "execution_count": null,
      "outputs": [
        {
          "output_type": "execute_result",
          "data": {
            "text/plain": [
              "57729.61835461836"
            ]
          },
          "metadata": {},
          "execution_count": 20
        }
      ]
    },
    {
      "cell_type": "code",
      "source": [
        "# Standard deviation\n",
        "mcd_df[\"Calories\"].std()"
      ],
      "metadata": {
        "colab": {
          "base_uri": "https://localhost:8080/"
        },
        "id": "MhLOEp7haeqK",
        "outputId": "3e4f9eec-4c00-4861-b4a6-f09f37a74605"
      },
      "execution_count": null,
      "outputs": [
        {
          "output_type": "execute_result",
          "data": {
            "text/plain": [
              "240.26988649145852"
            ]
          },
          "metadata": {},
          "execution_count": 21
        }
      ]
    },
    {
      "cell_type": "markdown",
      "source": [
        "## Exercise 4\n",
        "Calculate the variance and standard deviation for \"Trans Fat\" using the code cells below:"
      ],
      "metadata": {
        "id": "PdPvirCD8VHk"
      }
    },
    {
      "cell_type": "code",
      "source": [
        "# variance\n"
      ],
      "metadata": {
        "id": "jIOtX4iX8hBD"
      },
      "execution_count": null,
      "outputs": []
    },
    {
      "cell_type": "code",
      "source": [
        "# standard devation\n"
      ],
      "metadata": {
        "id": "hwjwH4W18tsB"
      },
      "execution_count": null,
      "outputs": []
    },
    {
      "cell_type": "markdown",
      "source": [
        "### Making Histograms\n",
        "Often, it is eadier to \"understand\" the spread of data by visualizing it. When we are dealiting with one numeric variable (such as number of calories), the **histogram** is an especially useful visualization. \n",
        "\n",
        "A histogram uses rectangles to show the frequency of data items in successive numerical intervals by using rectangles of equal width but differing heights. In the most common form of histogram, the **independent variable** (\"Calories\") is plotted along the horizontal axis. The **dependent variable** frequency (\"Number of items\") is plotted along the vertical axis.  In Pandas, we can create these diagrams as folllows:\n",
        "\n",
        "```\n",
        "data_frame_name.hist(\"Column name\")\n",
        "```\n",
        "For example, let's create a histogram of calories.\n",
        "\n",
        "\n"
      ],
      "metadata": {
        "id": "LHikesBIEeWp"
      }
    },
    {
      "cell_type": "code",
      "source": [
        "mcd_df.hist(\"Calories\")"
      ],
      "metadata": {
        "colab": {
          "base_uri": "https://localhost:8080/",
          "height": 318
        },
        "id": "u9sk_beMZuSX",
        "outputId": "9aaaded4-629a-4b5b-a2d9-167f371c8dbd"
      },
      "execution_count": null,
      "outputs": [
        {
          "output_type": "execute_result",
          "data": {
            "text/plain": [
              "array([[<matplotlib.axes._subplots.AxesSubplot object at 0x7f4e65307910>]],\n",
              "      dtype=object)"
            ]
          },
          "metadata": {},
          "execution_count": 22
        },
        {
          "output_type": "display_data",
          "data": {
            "text/plain": [
              "<Figure size 432x288 with 1 Axes>"
            ],
            "image/png": "[encoded data removed]"
          },
          "metadata": {
            "needs_background": "light"
          }
        }
      ]
    },
    {
      "cell_type": "markdown",
      "source": [
        "In examining this plot, we can determine the following:\n",
        "\n",
        "1. Most McDonald's food items are roughly \"near\" 300 calories. There are over 80 food between 250 and 350 calories (or so).\n",
        "2. There is a single extreme outlier with over 1750 calories (the 40 piece nuggets).\n",
        "3. The distribution \"skews right\" and is NOT quite normal."
      ],
      "metadata": {
        "id": "SlN-YKDU0aWI"
      }
    },
    {
      "cell_type": "markdown",
      "source": [
        "## Exercise 5\n",
        "Create a histogram of the data for \"Sodium\"."
      ],
      "metadata": {
        "id": "agtT26LQuvvQ"
      }
    },
    {
      "cell_type": "code",
      "source": [
        "# Your code here\n"
      ],
      "metadata": {
        "id": "CiZA3aq9u7Cm"
      },
      "execution_count": null,
      "outputs": []
    },
    {
      "cell_type": "markdown",
      "source": [
        "# Understanding df.describe()\n",
        "Pandas provides a helpful function called `data_frame_name.describe()` which allows us to see the most important \"summary statistics\" about our data frame.\n",
        "\n",
        "I've included round() to make things a bit more readable."
      ],
      "metadata": {
        "id": "LNSB_wikvxnw"
      }
    },
    {
      "cell_type": "code",
      "source": [
        "mcd_df.describe().round()"
      ],
      "metadata": {
        "colab": {
          "base_uri": "https://localhost:8080/",
          "height": 408
        },
        "id": "tkyxdlJTwGyl",
        "outputId": "17194646-8a96-4c38-861f-012f4bfa8dc3"
      },
      "execution_count": null,
      "outputs": [
        {
          "output_type": "execute_result",
          "data": {
            "text/plain": [
              "       Calories  Calories from Fat  Total Fat  Total Fat (% Daily Value)  \\\n",
              "count     260.0              260.0      260.0                      260.0   \n",
              "mean      368.0              127.0       14.0                       22.0   \n",
              "std       240.0              128.0       14.0                       22.0   \n",
              "min         0.0                0.0        0.0                        0.0   \n",
              "25%       210.0               20.0        2.0                        4.0   \n",
              "50%       340.0              100.0       11.0                       17.0   \n",
              "75%       500.0              200.0       22.0                       35.0   \n",
              "max      1880.0             1060.0      118.0                      182.0   \n",
              "\n",
              "       Saturated Fat  Saturated Fat (% Daily Value)  Trans Fat  Cholesterol  \\\n",
              "count          260.0                          260.0      260.0        260.0   \n",
              "mean             6.0                           30.0        0.0         55.0   \n",
              "std              5.0                           27.0        0.0         87.0   \n",
              "min              0.0                            0.0        0.0          0.0   \n",
              "25%              1.0                            5.0        0.0          5.0   \n",
              "50%              5.0                           24.0        0.0         35.0   \n",
              "75%             10.0                           48.0        0.0         65.0   \n",
              "max             20.0                          102.0        2.0        575.0   \n",
              "\n",
              "       Cholesterol (% Daily Value)  Sodium  ...  Carbohydrates  \\\n",
              "count                        260.0   260.0  ...          260.0   \n",
              "mean                          18.0   496.0  ...           47.0   \n",
              "std                           29.0   577.0  ...           28.0   \n",
              "min                            0.0     0.0  ...            0.0   \n",
              "25%                            2.0   108.0  ...           30.0   \n",
              "50%                           11.0   190.0  ...           44.0   \n",
              "75%                           21.0   865.0  ...           60.0   \n",
              "max                          192.0  3600.0  ...          141.0   \n",
              "\n",
              "       Carbohydrates (% Daily Value)  Dietary Fiber  \\\n",
              "count                          260.0          260.0   \n",
              "mean                            16.0            2.0   \n",
              "std                              9.0            2.0   \n",
              "min                              0.0            0.0   \n",
              "25%                             10.0            0.0   \n",
              "50%                             15.0            1.0   \n",
              "75%                             20.0            3.0   \n",
              "max                             47.0            7.0   \n",
              "\n",
              "       Dietary Fiber (% Daily Value)  Sugars  Protein  \\\n",
              "count                          260.0   260.0    260.0   \n",
              "mean                             7.0    29.0     13.0   \n",
              "std                              6.0    29.0     11.0   \n",
              "min                              0.0     0.0      0.0   \n",
              "25%                              0.0     6.0      4.0   \n",
              "50%                              5.0    18.0     12.0   \n",
              "75%                             10.0    48.0     19.0   \n",
              "max                             28.0   128.0     87.0   \n",
              "\n",
              "       Vitamin A (% Daily Value)  Vitamin C (% Daily Value)  \\\n",
              "count                      260.0                      260.0   \n",
              "mean                        13.0                        9.0   \n",
              "std                         24.0                       26.0   \n",
              "min                          0.0                        0.0   \n",
              "25%                          2.0                        0.0   \n",
              "50%                          8.0                        0.0   \n",
              "75%                         15.0                        4.0   \n",
              "max                        170.0                      240.0   \n",
              "\n",
              "       Calcium (% Daily Value)  Iron (% Daily Value)  \n",
              "count                    260.0                 260.0  \n",
              "mean                      21.0                   8.0  \n",
              "std                       17.0                   9.0  \n",
              "min                        0.0                   0.0  \n",
              "25%                        6.0                   0.0  \n",
              "50%                       20.0                   4.0  \n",
              "75%                       30.0                  15.0  \n",
              "max                       70.0                  40.0  \n",
              "\n",
              "[8 rows x 21 columns]"
            ],
            "text/html": [
              "\n",
              "  <div id=\"df-5e88b306-d573-47f1-8853-7cfc232d0c91\">\n",
              "    <div class=\"colab-df-container\">\n",
              "      <div>\n",
              "<style scoped>\n",
              "    .dataframe tbody tr th:only-of-type {\n",
              "        vertical-align: middle;\n",
              "    }\n",
              "\n",
              "    .dataframe tbody tr th {\n",
              "        vertical-align: top;\n",
              "    }\n",
              "\n",
              "    .dataframe thead th {\n",
              "        text-align: right;\n",
              "    }\n",
              "</style>\n",
              "<table border=\"1\" class=\"dataframe\">\n",
              "  <thead>\n",
              "    <tr style=\"text-align: right;\">\n",
              "      <th></th>\n",
              "      <th>Calories</th>\n",
              "      <th>Calories from Fat</th>\n",
              "      <th>Total Fat</th>\n",
              "      <th>Total Fat (% Daily Value)</th>\n",
              "      <th>Saturated Fat</th>\n",
              "      <th>Saturated Fat (% Daily Value)</th>\n",
              "      <th>Trans Fat</th>\n",
              "      <th>Cholesterol</th>\n",
              "      <th>Cholesterol (% Daily Value)</th>\n",
              "      <th>Sodium</th>\n",
              "      <th>...</th>\n",
              "      <th>Carbohydrates</th>\n",
              "      <th>Carbohydrates (% Daily Value)</th>\n",
              "      <th>Dietary Fiber</th>\n",
              "      <th>Dietary Fiber (% Daily Value)</th>\n",
              "      <th>Sugars</th>\n",
              "      <th>Protein</th>\n",
              "      <th>Vitamin A (% Daily Value)</th>\n",
              "      <th>Vitamin C (% Daily Value)</th>\n",
              "      <th>Calcium (% Daily Value)</th>\n",
              "      <th>Iron (% Daily Value)</th>\n",
              "    </tr>\n",
              "  </thead>\n",
              "  <tbody>\n",
              "    <tr>\n",
              "      <th>count</th>\n",
              "      <td>260.0</td>\n",
              "      <td>260.0</td>\n",
              "      <td>260.0</td>\n",
              "      <td>260.0</td>\n",
              "      <td>260.0</td>\n",
              "      <td>260.0</td>\n",
              "      <td>260.0</td>\n",
              "      <td>260.0</td>\n",
              "      <td>260.0</td>\n",
              "      <td>260.0</td>\n",
              "      <td>...</td>\n",
              "      <td>260.0</td>\n",
              "      <td>260.0</td>\n",
              "      <td>260.0</td>\n",
              "      <td>260.0</td>\n",
              "      <td>260.0</td>\n",
              "      <td>260.0</td>\n",
              "      <td>260.0</td>\n",
              "      <td>260.0</td>\n",
              "      <td>260.0</td>\n",
              "      <td>260.0</td>\n",
              "    </tr>\n",
              "    <tr>\n",
              "      <th>mean</th>\n",
              "      <td>368.0</td>\n",
              "      <td>127.0</td>\n",
              "      <td>14.0</td>\n",
              "      <td>22.0</td>\n",
              "      <td>6.0</td>\n",
              "      <td>30.0</td>\n",
              "      <td>0.0</td>\n",
              "      <td>55.0</td>\n",
              "      <td>18.0</td>\n",
              "      <td>496.0</td>\n",
              "      <td>...</td>\n",
              "      <td>47.0</td>\n",
              "      <td>16.0</td>\n",
              "      <td>2.0</td>\n",
              "      <td>7.0</td>\n",
              "      <td>29.0</td>\n",
              "      <td>13.0</td>\n",
              "      <td>13.0</td>\n",
              "      <td>9.0</td>\n",
              "      <td>21.0</td>\n",
              "      <td>8.0</td>\n",
              "    </tr>\n",
              "    <tr>\n",
              "      <th>std</th>\n",
              "      <td>240.0</td>\n",
              "      <td>128.0</td>\n",
              "      <td>14.0</td>\n",
              "      <td>22.0</td>\n",
              "      <td>5.0</td>\n",
              "      <td>27.0</td>\n",
              "      <td>0.0</td>\n",
              "      <td>87.0</td>\n",
              "      <td>29.0</td>\n",
              "      <td>577.0</td>\n",
              "      <td>...</td>\n",
              "      <td>28.0</td>\n",
              "      <td>9.0</td>\n",
              "      <td>2.0</td>\n",
              "      <td>6.0</td>\n",
              "      <td>29.0</td>\n",
              "      <td>11.0</td>\n",
              "      <td>24.0</td>\n",
              "      <td>26.0</td>\n",
              "      <td>17.0</td>\n",
              "      <td>9.0</td>\n",
              "    </tr>\n",
              "    <tr>\n",
              "      <th>min</th>\n",
              "      <td>0.0</td>\n",
              "      <td>0.0</td>\n",
              "      <td>0.0</td>\n",
              "      <td>0.0</td>\n",
              "      <td>0.0</td>\n",
              "      <td>0.0</td>\n",
              "      <td>0.0</td>\n",
              "      <td>0.0</td>\n",
              "      <td>0.0</td>\n",
              "      <td>0.0</td>\n",
              "      <td>...</td>\n",
              "      <td>0.0</td>\n",
              "      <td>0.0</td>\n",
              "      <td>0.0</td>\n",
              "      <td>0.0</td>\n",
              "      <td>0.0</td>\n",
              "      <td>0.0</td>\n",
              "      <td>0.0</td>\n",
              "      <td>0.0</td>\n",
              "      <td>0.0</td>\n",
              "      <td>0.0</td>\n",
              "    </tr>\n",
              "    <tr>\n",
              "      <th>25%</th>\n",
              "      <td>210.0</td>\n",
              "      <td>20.0</td>\n",
              "      <td>2.0</td>\n",
              "      <td>4.0</td>\n",
              "      <td>1.0</td>\n",
              "      <td>5.0</td>\n",
              "      <td>0.0</td>\n",
              "      <td>5.0</td>\n",
              "      <td>2.0</td>\n",
              "      <td>108.0</td>\n",
              "      <td>...</td>\n",
              "      <td>30.0</td>\n",
              "      <td>10.0</td>\n",
              "      <td>0.0</td>\n",
              "      <td>0.0</td>\n",
              "      <td>6.0</td>\n",
              "      <td>4.0</td>\n",
              "      <td>2.0</td>\n",
              "      <td>0.0</td>\n",
              "      <td>6.0</td>\n",
              "      <td>0.0</td>\n",
              "    </tr>\n",
              "    <tr>\n",
              "      <th>50%</th>\n",
              "      <td>340.0</td>\n",
              "      <td>100.0</td>\n",
              "      <td>11.0</td>\n",
              "      <td>17.0</td>\n",
              "      <td>5.0</td>\n",
              "      <td>24.0</td>\n",
              "      <td>0.0</td>\n",
              "      <td>35.0</td>\n",
              "      <td>11.0</td>\n",
              "      <td>190.0</td>\n",
              "      <td>...</td>\n",
              "      <td>44.0</td>\n",
              "      <td>15.0</td>\n",
              "      <td>1.0</td>\n",
              "      <td>5.0</td>\n",
              "      <td>18.0</td>\n",
              "      <td>12.0</td>\n",
              "      <td>8.0</td>\n",
              "      <td>0.0</td>\n",
              "      <td>20.0</td>\n",
              "      <td>4.0</td>\n",
              "    </tr>\n",
              "    <tr>\n",
              "      <th>75%</th>\n",
              "      <td>500.0</td>\n",
              "      <td>200.0</td>\n",
              "      <td>22.0</td>\n",
              "      <td>35.0</td>\n",
              "      <td>10.0</td>\n",
              "      <td>48.0</td>\n",
              "      <td>0.0</td>\n",
              "      <td>65.0</td>\n",
              "      <td>21.0</td>\n",
              "      <td>865.0</td>\n",
              "      <td>...</td>\n",
              "      <td>60.0</td>\n",
              "      <td>20.0</td>\n",
              "      <td>3.0</td>\n",
              "      <td>10.0</td>\n",
              "      <td>48.0</td>\n",
              "      <td>19.0</td>\n",
              "      <td>15.0</td>\n",
              "      <td>4.0</td>\n",
              "      <td>30.0</td>\n",
              "      <td>15.0</td>\n",
              "    </tr>\n",
              "    <tr>\n",
              "      <th>max</th>\n",
              "      <td>1880.0</td>\n",
              "      <td>1060.0</td>\n",
              "      <td>118.0</td>\n",
              "      <td>182.0</td>\n",
              "      <td>20.0</td>\n",
              "      <td>102.0</td>\n",
              "      <td>2.0</td>\n",
              "      <td>575.0</td>\n",
              "      <td>192.0</td>\n",
              "      <td>3600.0</td>\n",
              "      <td>...</td>\n",
              "      <td>141.0</td>\n",
              "      <td>47.0</td>\n",
              "      <td>7.0</td>\n",
              "      <td>28.0</td>\n",
              "      <td>128.0</td>\n",
              "      <td>87.0</td>\n",
              "      <td>170.0</td>\n",
              "      <td>240.0</td>\n",
              "      <td>70.0</td>\n",
              "      <td>40.0</td>\n",
              "    </tr>\n",
              "  </tbody>\n",
              "</table>\n",
              "<p>8 rows × 21 columns</p>\n",
              "</div>\n",
              "      <button class=\"colab-df-convert\" onclick=\"convertToInteractive('df-5e88b306-d573-47f1-8853-7cfc232d0c91')\"\n",
              "              title=\"Convert this dataframe to an interactive table.\"\n",
              "              style=\"display:none;\">\n",
              "        \n",
              "  <svg xmlns=\"http://www.w3.org/2000/svg\" height=\"24px\"viewBox=\"0 0 24 24\"\n",
              "       width=\"24px\">\n",
              "    <path d=\"M0 0h24v24H0V0z\" fill=\"none\"/>\n",
              "    <path d=\"M18.56 5.44l.94 2.06.94-2.06 2.06-.94-2.06-.94-.94-2.06-.94 2.06-2.06.94zm-11 1L8.5 8.5l.94-2.06 2.06-.94-2.06-.94L8.5 2.5l-.94 2.06-2.06.94zm10 10l.94 2.06.94-2.06 2.06-.94-2.06-.94-.94-2.06-.94 2.06-2.06.94z\"/><path d=\"M17.41 7.96l-1.37-1.37c-.4-.4-.92-.59-1.43-.59-.52 0-1.04.2-1.43.59L10.3 9.45l-7.72 7.72c-.78.78-.78 2.05 0 2.83L4 21.41c.39.39.9.59 1.41.59.51 0 1.02-.2 1.41-.59l7.78-7.78 2.81-2.81c.8-.78.8-2.07 0-2.86zM5.41 20L4 18.59l7.72-7.72 1.47 1.35L5.41 20z\"/>\n",
              "  </svg>\n",
              "      </button>\n",
              "      \n",
              "  <style>\n",
              "    .colab-df-container {\n",
              "      display:flex;\n",
              "      flex-wrap:wrap;\n",
              "      gap: 12px;\n",
              "    }\n",
              "\n",
              "    .colab-df-convert {\n",
              "      background-color: #E8F0FE;\n",
              "      border: none;\n",
              "      border-radius: 50%;\n",
              "      cursor: pointer;\n",
              "      display: none;\n",
              "      fill: #1967D2;\n",
              "      height: 32px;\n",
              "      padding: 0 0 0 0;\n",
              "      width: 32px;\n",
              "    }\n",
              "\n",
              "    .colab-df-convert:hover {\n",
              "      background-color: #E2EBFA;\n",
              "      box-shadow: 0px 1px 2px rgba(60, 64, 67, 0.3), 0px 1px 3px 1px rgba(60, 64, 67, 0.15);\n",
              "      fill: #174EA6;\n",
              "    }\n",
              "\n",
              "    [theme=dark] .colab-df-convert {\n",
              "      background-color: #3B4455;\n",
              "      fill: #D2E3FC;\n",
              "    }\n",
              "\n",
              "    [theme=dark] .colab-df-convert:hover {\n",
              "      background-color: #434B5C;\n",
              "      box-shadow: 0px 1px 3px 1px rgba(0, 0, 0, 0.15);\n",
              "      filter: drop-shadow(0px 1px 2px rgba(0, 0, 0, 0.3));\n",
              "      fill: #FFFFFF;\n",
              "    }\n",
              "  </style>\n",
              "\n",
              "      <script>\n",
              "        const buttonEl =\n",
              "          document.querySelector('#df-5e88b306-d573-47f1-8853-7cfc232d0c91 button.colab-df-convert');\n",
              "        buttonEl.style.display =\n",
              "          google.colab.kernel.accessAllowed ? 'block' : 'none';\n",
              "\n",
              "        async function convertToInteractive(key) {\n",
              "          const element = document.querySelector('#df-5e88b306-d573-47f1-8853-7cfc232d0c91');\n",
              "          const dataTable =\n",
              "            await google.colab.kernel.invokeFunction('convertToInteractive',\n",
              "                                                     [key], {});\n",
              "          if (!dataTable) return;\n",
              "\n",
              "          const docLinkHtml = 'Like what you see? Visit the ' +\n",
              "            '<a target=\"_blank\" href=https://colab.research.google.com/notebooks/data_table.ipynb>data table notebook</a>'\n",
              "            + ' to learn more about interactive tables.';\n",
              "          element.innerHTML = '';\n",
              "          dataTable['output_type'] = 'display_data';\n",
              "          await google.colab.output.renderOutput(dataTable, element);\n",
              "          const docLink = document.createElement('div');\n",
              "          docLink.innerHTML = docLinkHtml;\n",
              "          element.appendChild(docLink);\n",
              "        }\n",
              "      </script>\n",
              "    </div>\n",
              "  </div>\n",
              "  "
            ]
          },
          "metadata": {},
          "execution_count": 24
        }
      ]
    },
    {
      "cell_type": "markdown",
      "source": [
        "As you can see this provides a helpful summary of the number of data item, the minimum, maximum, standard deviation, and median (50%). Right now, it only includes \"numeric\" columns (int or float, not object).\n",
        "\n",
        "If we wanted to see the \"object\" (or \"string\") columns, we'd get a somewhat different set of statistics:\n"
      ],
      "metadata": {
        "id": "iZKfuEbfxUDU"
      }
    },
    {
      "cell_type": "code",
      "source": [
        "mcd_df.describe(include=[object])"
      ],
      "metadata": {
        "colab": {
          "base_uri": "https://localhost:8080/",
          "height": 175
        },
        "id": "rdVniEgJx9cJ",
        "outputId": "e0b179b0-3b2f-4bc0-f55c-af69cd304d37"
      },
      "execution_count": null,
      "outputs": [
        {
          "output_type": "execute_result",
          "data": {
            "text/plain": [
              "            Category          Item  Serving Size\n",
              "count            260           260           260\n",
              "unique             9           260           107\n",
              "top     Coffee & Tea  Egg McMuffin  16 fl oz cup\n",
              "freq              95             1            45"
            ],
            "text/html": [
              "\n",
              "  <div id=\"df-b14509f8-e05d-4c1d-adc0-edf526f89caf\">\n",
              "    <div class=\"colab-df-container\">\n",
              "      <div>\n",
              "<style scoped>\n",
              "    .dataframe tbody tr th:only-of-type {\n",
              "        vertical-align: middle;\n",
              "    }\n",
              "\n",
              "    .dataframe tbody tr th {\n",
              "        vertical-align: top;\n",
              "    }\n",
              "\n",
              "    .dataframe thead th {\n",
              "        text-align: right;\n",
              "    }\n",
              "</style>\n",
              "<table border=\"1\" class=\"dataframe\">\n",
              "  <thead>\n",
              "    <tr style=\"text-align: right;\">\n",
              "      <th></th>\n",
              "      <th>Category</th>\n",
              "      <th>Item</th>\n",
              "      <th>Serving Size</th>\n",
              "    </tr>\n",
              "  </thead>\n",
              "  <tbody>\n",
              "    <tr>\n",
              "      <th>count</th>\n",
              "      <td>260</td>\n",
              "      <td>260</td>\n",
              "      <td>260</td>\n",
              "    </tr>\n",
              "    <tr>\n",
              "      <th>unique</th>\n",
              "      <td>9</td>\n",
              "      <td>260</td>\n",
              "      <td>107</td>\n",
              "    </tr>\n",
              "    <tr>\n",
              "      <th>top</th>\n",
              "      <td>Coffee &amp; Tea</td>\n",
              "      <td>Egg McMuffin</td>\n",
              "      <td>16 fl oz cup</td>\n",
              "    </tr>\n",
              "    <tr>\n",
              "      <th>freq</th>\n",
              "      <td>95</td>\n",
              "      <td>1</td>\n",
              "      <td>45</td>\n",
              "    </tr>\n",
              "  </tbody>\n",
              "</table>\n",
              "</div>\n",
              "      <button class=\"colab-df-convert\" onclick=\"convertToInteractive('df-b14509f8-e05d-4c1d-adc0-edf526f89caf')\"\n",
              "              title=\"Convert this dataframe to an interactive table.\"\n",
              "              style=\"display:none;\">\n",
              "        \n",
              "  <svg xmlns=\"http://www.w3.org/2000/svg\" height=\"24px\"viewBox=\"0 0 24 24\"\n",
              "       width=\"24px\">\n",
              "    <path d=\"M0 0h24v24H0V0z\" fill=\"none\"/>\n",
              "    <path d=\"M18.56 5.44l.94 2.06.94-2.06 2.06-.94-2.06-.94-.94-2.06-.94 2.06-2.06.94zm-11 1L8.5 8.5l.94-2.06 2.06-.94-2.06-.94L8.5 2.5l-.94 2.06-2.06.94zm10 10l.94 2.06.94-2.06 2.06-.94-2.06-.94-.94-2.06-.94 2.06-2.06.94z\"/><path d=\"M17.41 7.96l-1.37-1.37c-.4-.4-.92-.59-1.43-.59-.52 0-1.04.2-1.43.59L10.3 9.45l-7.72 7.72c-.78.78-.78 2.05 0 2.83L4 21.41c.39.39.9.59 1.41.59.51 0 1.02-.2 1.41-.59l7.78-7.78 2.81-2.81c.8-.78.8-2.07 0-2.86zM5.41 20L4 18.59l7.72-7.72 1.47 1.35L5.41 20z\"/>\n",
              "  </svg>\n",
              "      </button>\n",
              "      \n",
              "  <style>\n",
              "    .colab-df-container {\n",
              "      display:flex;\n",
              "      flex-wrap:wrap;\n",
              "      gap: 12px;\n",
              "    }\n",
              "\n",
              "    .colab-df-convert {\n",
              "      background-color: #E8F0FE;\n",
              "      border: none;\n",
              "      border-radius: 50%;\n",
              "      cursor: pointer;\n",
              "      display: none;\n",
              "      fill: #1967D2;\n",
              "      height: 32px;\n",
              "      padding: 0 0 0 0;\n",
              "      width: 32px;\n",
              "    }\n",
              "\n",
              "    .colab-df-convert:hover {\n",
              "      background-color: #E2EBFA;\n",
              "      box-shadow: 0px 1px 2px rgba(60, 64, 67, 0.3), 0px 1px 3px 1px rgba(60, 64, 67, 0.15);\n",
              "      fill: #174EA6;\n",
              "    }\n",
              "\n",
              "    [theme=dark] .colab-df-convert {\n",
              "      background-color: #3B4455;\n",
              "      fill: #D2E3FC;\n",
              "    }\n",
              "\n",
              "    [theme=dark] .colab-df-convert:hover {\n",
              "      background-color: #434B5C;\n",
              "      box-shadow: 0px 1px 3px 1px rgba(0, 0, 0, 0.15);\n",
              "      filter: drop-shadow(0px 1px 2px rgba(0, 0, 0, 0.3));\n",
              "      fill: #FFFFFF;\n",
              "    }\n",
              "  </style>\n",
              "\n",
              "      <script>\n",
              "        const buttonEl =\n",
              "          document.querySelector('#df-b14509f8-e05d-4c1d-adc0-edf526f89caf button.colab-df-convert');\n",
              "        buttonEl.style.display =\n",
              "          google.colab.kernel.accessAllowed ? 'block' : 'none';\n",
              "\n",
              "        async function convertToInteractive(key) {\n",
              "          const element = document.querySelector('#df-b14509f8-e05d-4c1d-adc0-edf526f89caf');\n",
              "          const dataTable =\n",
              "            await google.colab.kernel.invokeFunction('convertToInteractive',\n",
              "                                                     [key], {});\n",
              "          if (!dataTable) return;\n",
              "\n",
              "          const docLinkHtml = 'Like what you see? Visit the ' +\n",
              "            '<a target=\"_blank\" href=https://colab.research.google.com/notebooks/data_table.ipynb>data table notebook</a>'\n",
              "            + ' to learn more about interactive tables.';\n",
              "          element.innerHTML = '';\n",
              "          dataTable['output_type'] = 'display_data';\n",
              "          await google.colab.output.renderOutput(dataTable, element);\n",
              "          const docLink = document.createElement('div');\n",
              "          docLink.innerHTML = docLinkHtml;\n",
              "          element.appendChild(docLink);\n",
              "        }\n",
              "      </script>\n",
              "    </div>\n",
              "  </div>\n",
              "  "
            ]
          },
          "metadata": {},
          "execution_count": 25
        }
      ]
    },
    {
      "cell_type": "markdown",
      "source": [
        "This tells, for example, that there a 9 \"categories\" of McDonald's food, and the most frequent category is \"Coffee & Tea\", which include 95 food items."
      ],
      "metadata": {
        "id": "nKy6OzqpyjNM"
      }
    },
    {
      "cell_type": "markdown",
      "source": [
        "## Exercise 6 and 7\n",
        "Ex6. Review the output from .describe() above, and answer the following questions:\n",
        "\n",
        "1. What is the mean \"Saturated Fat\"?\n",
        "2. What is the median \"Cholestorol\"?\n",
        "3. What is the max \"Vitamin A\"?\n",
        "4. What is the standard deviation for \"Carbohydrates\"?\n",
        "\n",
        "Ex7. Now, confirm your answers using the min(), max(), median(), and sd() functions you learned earlier (using the code cells below)."
      ],
      "metadata": {
        "id": "ZZRo_Ju6zK2O"
      }
    },
    {
      "cell_type": "code",
      "source": [
        "#  mean saturated fat\n"
      ],
      "metadata": {
        "id": "KurSKOqnzKLG"
      },
      "execution_count": null,
      "outputs": []
    },
    {
      "cell_type": "code",
      "source": [
        "# median \"cholestorol\"\n"
      ],
      "metadata": {
        "id": "ZLxRu6zt0A2C"
      },
      "execution_count": null,
      "outputs": []
    },
    {
      "cell_type": "code",
      "source": [
        "# max vitamin A\n"
      ],
      "metadata": {
        "id": "nwvgufa-0D7B"
      },
      "execution_count": null,
      "outputs": []
    },
    {
      "cell_type": "code",
      "source": [
        "# standard deviation for carbohydrates"
      ],
      "metadata": {
        "id": "5TQG6zcG0F6R"
      },
      "execution_count": null,
      "outputs": []
    },
    {
      "cell_type": "markdown",
      "source": [
        "## Other Visualizations: Scatterplots and Boxplots\n",
        "In addition to histograms (which are used for displaying information about ONE numerical column), two other standard visualizations are:\n",
        "\n",
        "1. **Scatterplots** show the relationship between two numerical variables.\n",
        "2. **Box plots** show the relationship between one numerical variable and one categorical variable.\n",
        "\n",
        "Scatterplots can be made by using the following command:\n",
        "\n",
        "\n",
        "```\n",
        "data_frame_name.plot.scatter(\"Column 1\", \"Column 2\")\n",
        "```\n",
        "\n",
        "For example, the following scatterplot shows that there is a strong **positive** relationship between fat and calories. That is, foods with more fat tend to have more calories (and vice-versa)."
      ],
      "metadata": {
        "id": "kGvki0wyReYy"
      }
    },
    {
      "cell_type": "code",
      "source": [
        "# A scatter plot showing the relationship between total calories and total fat\n",
        "mcd_df.plot.scatter(\"Calories\", \"Total Fat\")"
      ],
      "metadata": {
        "colab": {
          "base_uri": "https://localhost:8080/",
          "height": 297
        },
        "id": "pUWObCJhSF36",
        "outputId": "67af16cd-4e41-4402-a12b-e34c5557eae5"
      },
      "execution_count": null,
      "outputs": [
        {
          "output_type": "execute_result",
          "data": {
            "text/plain": [
              "<matplotlib.axes._subplots.AxesSubplot at 0x7f4e65aece50>"
            ]
          },
          "metadata": {},
          "execution_count": 30
        },
        {
          "output_type": "display_data",
          "data": {
            "text/plain": [
              "<Figure size 432x288 with 1 Axes>"
            ],
            "image/png": "[encoded data removed]"
          },
          "metadata": {
            "needs_background": "light"
          }
        }
      ]
    },
    {
      "cell_type": "markdown",
      "source": [
        "Box plots can be created by using the pandas command df.boxplot(). You can see an example below. Here, I've done the following:\n",
        "\n",
        "1. I've told Python I want to use data about \"calories\" to make the plot.\n",
        "2. I've also said I want the calorie data \"grouped\" by category of food item.\n",
        "3. Finally, because there graph contains so much data, I've specified a \"figure size\" of 12 x 6 inches."
      ],
      "metadata": {
        "id": "dZsrweZzYFLt"
      }
    },
    {
      "cell_type": "code",
      "source": [
        "# A box plot of calories by category of food\n",
        "mcd_df.boxplot(\"Calories\", by = 'Category', figsize= (12,6))"
      ],
      "metadata": {
        "colab": {
          "base_uri": "https://localhost:8080/",
          "height": 495
        },
        "id": "rsAyn8wEVA5_",
        "outputId": "1a20f6ab-b2b8-4ae3-a4fe-d85588effff2"
      },
      "execution_count": null,
      "outputs": [
        {
          "output_type": "stream",
          "name": "stderr",
          "text": [
            "/usr/local/lib/python3.7/dist-packages/matplotlib/cbook/__init__.py:1376: VisibleDeprecationWarning: Creating an ndarray from ragged nested sequences (which is a list-or-tuple of lists-or-tuples-or ndarrays with different lengths or shapes) is deprecated. If you meant to do this, you must specify 'dtype=object' when creating the ndarray.\n",
            "  X = np.atleast_1d(X.T if isinstance(X, np.ndarray) else np.asarray(X))\n"
          ]
        },
        {
          "output_type": "execute_result",
          "data": {
            "text/plain": [
              "<matplotlib.axes._subplots.AxesSubplot at 0x7f4e64da7810>"
            ]
          },
          "metadata": {},
          "execution_count": 31
        },
        {
          "output_type": "display_data",
          "data": {
            "text/plain": [
              "<Figure size 864x432 with 1 Axes>"
            ],
            "image/png": "[encoded data removed]"
          },
          "metadata": {
            "needs_background": "light"
          }
        }
      ]
    },
    {
      "cell_type": "markdown",
      "source": [
        "In a box plot, there are several distinct parts:\n",
        "1. The \"boxes\" show the middle 50% of the data. So, for example, the middle 50% of beverages have beween 0 and 175 calories.\n",
        "2. The line in the middle of the box shows the \"median\" item. So, the median desert has around 250 calories.\n",
        "3. The \"whiskers\" (or lines) sticking out the top and the bottom show the data items that are outside the middle 50% but still within the \"normal range\" (technically, the median plus or minus 1.5 times the size of the box) while the dots show **outliers.** For example, in the Chicken and Fish category, there is an outlier with over 1750 calories (our old friend the 40 piece nuggets)."
      ],
      "metadata": {
        "id": "QKwI-M3E_Wyi"
      }
    },
    {
      "cell_type": "markdown",
      "source": [
        "## Exercises 8 and 9\n",
        "1. Make a scatter plot exploring the relationship between carbohydrates and total fat.\n",
        "2. Make a boxplot based on the one just shown. However, instead of showing data about \"Calories\", show the data about sugar content."
      ],
      "metadata": {
        "id": "IND61jEcv5E0"
      }
    },
    {
      "cell_type": "code",
      "source": [
        "# Scatterplot for carbs and fat\n"
      ],
      "metadata": {
        "id": "QANxUXS5wH1L"
      },
      "execution_count": null,
      "outputs": []
    },
    {
      "cell_type": "code",
      "source": [
        "# boxplot for sugar by category\n"
      ],
      "metadata": {
        "id": "56eXxWUdwIUI"
      },
      "execution_count": null,
      "outputs": []
    },
    {
      "cell_type": "markdown",
      "source": [
        "# Exercise 10: Explore the Cars Dataset\n",
        "The best way to solidify your knowledge is to apply it. So, as a challenge, try loading the cars dataset (link is below) into Pandas, and see what you can do. You'll get credit just for trying. Some ideas:\n",
        "\n",
        "1. Load the data and display the head.\n",
        "2. Use .info() and .describe() to learn about the data\n",
        "3. Use .sort_values() to sort the data.\n",
        "4. Find out the median, mean, mode, and sd of different columns.\n",
        "5. Make graphs such as histograms, scatterplots, and box plots.\n",
        "\n",
        "The data dictionary is here:\n",
        "\n",
        "https://github.com/brendanpshea/datasets/blob/main/cars_dictionary.md\n",
        "\n",
        "I've provided the url to the dataset below. (See the beginning of this lesson for how to load it into pandas."
      ],
      "metadata": {
        "id": "DskFd3wN7_3S"
      }
    },
    {
      "cell_type": "code",
      "source": [
        "url = \"https://raw.githubusercontent.com/brendanpshea/datasets/main/cars.csv\"\n"
      ],
      "metadata": {
        "id": "QLtuQMwW8q3m"
      },
      "execution_count": null,
      "outputs": []
    },
    {
      "cell_type": "code",
      "source": [
        "# use pd.read_csv() to read this into a dataframe called cars_df\n"
      ],
      "metadata": {
        "id": "Jh22VjpI9aSo"
      },
      "execution_count": null,
      "outputs": []
    },
    {
      "cell_type": "code",
      "source": [],
      "metadata": {
        "id": "TWCbGsOb9z_O"
      },
      "execution_count": null,
      "outputs": []
    },
    {
      "cell_type": "code",
      "source": [],
      "metadata": {
        "id": "gpClgkSX96UB"
      },
      "execution_count": null,
      "outputs": []
    },
    {
      "cell_type": "code",
      "source": [],
      "metadata": {
        "id": "dOp-jOrz96YQ"
      },
      "execution_count": null,
      "outputs": []
    },
    {
      "cell_type": "code",
      "source": [],
      "metadata": {
        "id": "AcPQWOn-96ch"
      },
      "execution_count": null,
      "outputs": []
    },
    {
      "cell_type": "code",
      "source": [],
      "metadata": {
        "id": "ztLeEYzI96hY"
      },
      "execution_count": null,
      "outputs": []
    },
    {
      "cell_type": "code",
      "source": [],
      "metadata": {
        "id": "1soOAy6_-KPF"
      },
      "execution_count": null,
      "outputs": []
    }
  ]
}